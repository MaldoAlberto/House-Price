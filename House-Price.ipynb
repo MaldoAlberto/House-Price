{
  "nbformat": 4,
  "nbformat_minor": 0,
  "metadata": {
    "colab": {
      "name": "Project_model1.ipynb",
      "provenance": [],
      "collapsed_sections": [],
      "toc_visible": true,
      "include_colab_link": true
    },
    "kernelspec": {
      "name": "python3",
      "display_name": "Python 3"
    }
  },
  "cells": [
    {
      "cell_type": "markdown",
      "metadata": {
        "id": "view-in-github",
        "colab_type": "text"
      },
      "source": [
        "<a href=\"https://colab.research.google.com/github/MaldoAlberto/House-Price/blob/master/House-Price.ipynb\" target=\"_parent\"><img src=\"https://colab.research.google.com/assets/colab-badge.svg\" alt=\"Open In Colab\"/></a>"
      ]
    },
    {
      "cell_type": "markdown",
      "metadata": {
        "id": "smVRGyo8CcY9",
        "colab_type": "text"
      },
      "source": [
        "# Competencia de predicción de precios de casas\n",
        "\n",
        "Se llaman los diferentes métodos que se usarán para generar el modelo que, basadaos en una regresión, predecirá el precio de un conjunto de casas. Se usarán los siguientes módulos en Python:"
      ]
    },
    {
      "cell_type": "code",
      "metadata": {
        "id": "_zI_JrZSmGiW",
        "colab_type": "code",
        "colab": {}
      },
      "source": [
        ""
      ],
      "execution_count": 0,
      "outputs": []
    },
    {
      "cell_type": "code",
      "metadata": {
        "id": "rxjpB_BHB3Sq",
        "colab_type": "code",
        "colab": {}
      },
      "source": [
        "import pandas as pd\n",
        "import numpy as np\n",
        "from scipy.stats import skew\n",
        "from scipy.stats import norm\n",
        "from sklearn.model_selection import KFold, cross_val_score\n",
        "from sklearn.metrics import mean_squared_error\n",
        "from scipy.special import boxcox1p"
      ],
      "execution_count": 0,
      "outputs": []
    },
    {
      "cell_type": "markdown",
      "metadata": {
        "id": "T5x6Yn-6CuGd",
        "colab_type": "text"
      },
      "source": [
        "Manda a llamar a los archivos proporcionados por la competencia House Prices: Advanced Regresion Techniques, correspondientes a el conjunto de datos de entrenamiento y los datos de prueba."
      ]
    },
    {
      "cell_type": "code",
      "metadata": {
        "id": "G-KvDP3_DAA-",
        "colab_type": "code",
        "outputId": "58f29832-fd58-405e-9869-3afc4710e3b8",
        "colab": {
          "base_uri": "https://localhost:8080/",
          "height": 303
        }
      },
      "source": [
        "train = pd.read_csv(\"train.csv\")\n",
        "test = pd.read_csv(\"test.csv\")\n",
        "print(train.head())\n",
        "print(test.head())"
      ],
      "execution_count": 0,
      "outputs": [
        {
          "output_type": "stream",
          "text": [
            "   Id  MSSubClass MSZoning  ...  SaleType  SaleCondition SalePrice\n",
            "0   1          60       RL  ...        WD         Normal    208500\n",
            "1   2          20       RL  ...        WD         Normal    181500\n",
            "2   3          60       RL  ...        WD         Normal    223500\n",
            "3   4          70       RL  ...        WD        Abnorml    140000\n",
            "4   5          60       RL  ...        WD         Normal    250000\n",
            "\n",
            "[5 rows x 81 columns]\n",
            "     Id  MSSubClass MSZoning  ...  YrSold  SaleType SaleCondition\n",
            "0  1461          20       RH  ...    2010        WD        Normal\n",
            "1  1462          20       RL  ...    2010        WD        Normal\n",
            "2  1463          60       RL  ...    2010        WD        Normal\n",
            "3  1464          60       RL  ...    2010        WD        Normal\n",
            "4  1465         120       RL  ...    2010        WD        Normal\n",
            "\n",
            "[5 rows x 80 columns]\n"
          ],
          "name": "stdout"
        }
      ]
    },
    {
      "cell_type": "markdown",
      "metadata": {
        "id": "6gFj12a8Demo",
        "colab_type": "text"
      },
      "source": [
        "Se identifica de cada archivo la columna de id o número de identificación, se separa del archivo y se almacenan en una variable que identifica cada característica en cada columna."
      ]
    },
    {
      "cell_type": "code",
      "metadata": {
        "id": "V7tTiUx6D7oy",
        "colab_type": "code",
        "outputId": "73f2aa68-95ec-4779-bc60-fc24086eb9dc",
        "colab": {
          "base_uri": "https://localhost:8080/",
          "height": 303
        }
      },
      "source": [
        "train_ID = train['Id']\n",
        "test_ID = test['Id']\n",
        "train.drop(\"Id\", axis = 1, inplace = True)\n",
        "test.drop(\"Id\", axis = 1, inplace = True)\n",
        "print(train.head())\n",
        "print(test.head())"
      ],
      "execution_count": 0,
      "outputs": [
        {
          "output_type": "stream",
          "text": [
            "   MSSubClass MSZoning  LotFrontage  ...  SaleType SaleCondition SalePrice\n",
            "0          60       RL         65.0  ...        WD        Normal    208500\n",
            "1          20       RL         80.0  ...        WD        Normal    181500\n",
            "2          60       RL         68.0  ...        WD        Normal    223500\n",
            "3          70       RL         60.0  ...        WD       Abnorml    140000\n",
            "4          60       RL         84.0  ...        WD        Normal    250000\n",
            "\n",
            "[5 rows x 80 columns]\n",
            "   MSSubClass MSZoning  LotFrontage  ...  YrSold SaleType SaleCondition\n",
            "0          20       RH         80.0  ...    2010       WD        Normal\n",
            "1          20       RL         81.0  ...    2010       WD        Normal\n",
            "2          60       RL         74.0  ...    2010       WD        Normal\n",
            "3          60       RL         78.0  ...    2010       WD        Normal\n",
            "4         120       RL         43.0  ...    2010       WD        Normal\n",
            "\n",
            "[5 rows x 79 columns]\n"
          ],
          "name": "stdout"
        }
      ]
    },
    {
      "cell_type": "markdown",
      "metadata": {
        "id": "5zONLm0_ExAF",
        "colab_type": "text"
      },
      "source": [
        "Se concatenan en una misma matriz los dos arreglos (tanto de entrenamiento como de prueba) para facilitar establecer una relación entre los datos, por lo que se elimina la columna SalePrice del entrenamiento."
      ]
    },
    {
      "cell_type": "code",
      "metadata": {
        "id": "i_1Z7MwqE4e4",
        "colab_type": "code",
        "outputId": "fe68995d-f071-4c57-b662-df2c36242a31",
        "colab": {
          "base_uri": "https://localhost:8080/",
          "height": 234
        }
      },
      "source": [
        "ntrain = train.shape[0]\n",
        "ntest = test.shape[0]\n",
        "all_data = pd.concat((train, test)).reset_index(drop=True)\n",
        "all_data.drop(['SalePrice'], axis=1, inplace=True)\n",
        "print(\"Tam Train : {}\".format(train.shape))\n",
        "print(\"Tam Test : {}\".format(test.shape))\n",
        "print(\"Tam Total : {}\".format(all_data.shape))"
      ],
      "execution_count": 0,
      "outputs": [
        {
          "output_type": "stream",
          "text": [
            "Tam Train : (1460, 80)\n",
            "Tam Test : (1459, 79)\n",
            "Tam Total : (2919, 79)\n"
          ],
          "name": "stdout"
        },
        {
          "output_type": "stream",
          "text": [
            "/usr/local/lib/python3.6/dist-packages/ipykernel_launcher.py:3: FutureWarning: Sorting because non-concatenation axis is not aligned. A future version\n",
            "of pandas will change to not sort by default.\n",
            "\n",
            "To accept the future behavior, pass 'sort=False'.\n",
            "\n",
            "To retain the current behavior and silence the warning, pass 'sort=True'.\n",
            "\n",
            "  This is separate from the ipykernel package so we can avoid doing imports until\n"
          ],
          "name": "stderr"
        }
      ]
    },
    {
      "cell_type": "markdown",
      "metadata": {
        "id": "_iT8AkHzExFq",
        "colab_type": "text"
      },
      "source": [
        "Para buscar un método de regresión adecuado, una técnica de preprocesamiento consite en la separación entre los tipos de datos numéricos y categóricos. Esto se logra mediante la identificacióón de tipo de variable de cada columna en el conjunto de datos:"
      ]
    },
    {
      "cell_type": "code",
      "metadata": {
        "id": "km7DFOczGXhj",
        "colab_type": "code",
        "outputId": "e4b228af-80d9-4bbd-e796-5379684d23bd",
        "colab": {
          "base_uri": "https://localhost:8080/",
          "height": 34
        }
      },
      "source": [
        "cat = len(train.select_dtypes(include=['object']).columns)\n",
        "num = len(train.select_dtypes(include=['int64','float64']).columns)\n",
        "print('Total de atributos : ', cat, 'categoricos', '+', num, 'numericos', '=', cat+num)"
      ],
      "execution_count": 0,
      "outputs": [
        {
          "output_type": "stream",
          "text": [
            "Total de atributos :  43 categoricos + 37 numericos = 80\n"
          ],
          "name": "stdout"
        }
      ]
    },
    {
      "cell_type": "markdown",
      "metadata": {
        "id": "eJlkMraaGmN5",
        "colab_type": "text"
      },
      "source": [
        "Se identifica de estos 37 atributos los 10 más correlacionados con respecto al atributo $SalePrice$. En este punto, es útil encontrar la correlación entre los pares numéricos que permitan establecer relaciones entre las variables o características.\n"
      ]
    },
    {
      "cell_type": "code",
      "metadata": {
        "id": "XW8PMmfpGxFN",
        "colab_type": "code",
        "outputId": "18a0eb9a-e372-4e8f-8e4d-b7d440673fad",
        "colab": {
          "base_uri": "https://localhost:8080/",
          "height": 208
        }
      },
      "source": [
        "corrmat = train.corr()\n",
        "k = 10\n",
        "cols = corrmat.nlargest(k, 'SalePrice')['SalePrice'].index\n",
        "most_corr = pd.DataFrame(cols)\n",
        "most_corr.columns = ['Atributos mas correlacionados']\n",
        "print(most_corr)"
      ],
      "execution_count": 0,
      "outputs": [
        {
          "output_type": "stream",
          "text": [
            "  Atributos mas correlacionados\n",
            "0                     SalePrice\n",
            "1                   OverallQual\n",
            "2                     GrLivArea\n",
            "3                    GarageCars\n",
            "4                    GarageArea\n",
            "5                   TotalBsmtSF\n",
            "6                      1stFlrSF\n",
            "7                      FullBath\n",
            "8                  TotRmsAbvGrd\n",
            "9                     YearBuilt\n"
          ],
          "name": "stdout"
        }
      ]
    },
    {
      "cell_type": "markdown",
      "metadata": {
        "id": "_Wy9QR-wHAyq",
        "colab_type": "text"
      },
      "source": [
        "Al identificar los atributos más correlacionados, es posible continuar con el preprocesamiento considerando estas variables como principales en función de la columna objetivo $SalePrice$.\n"
      ]
    },
    {
      "cell_type": "code",
      "metadata": {
        "id": "Ondigsm4HUPm",
        "colab_type": "code",
        "outputId": "c3f86dc1-f315-4d41-b7dc-ad6635fde0ce",
        "colab": {
          "base_uri": "https://localhost:8080/",
          "height": 208
        }
      },
      "source": [
        "ntrain = train.shape[0]\n",
        "ntest = test.shape[0]\n",
        "all_data = pd.concat((train, test)).reset_index(drop=True)\n",
        "print(\"Tam Train : {}\".format(train.shape))\n",
        "print(\"Tam Test : {}\".format(test.shape))\n",
        "print(\"Tam Total : {}\".format(all_data.shape))"
      ],
      "execution_count": 0,
      "outputs": [
        {
          "output_type": "stream",
          "text": [
            "Tam Train : (1460, 80)\n",
            "Tam Test : (1459, 79)\n",
            "Tam Total : (2919, 80)\n"
          ],
          "name": "stdout"
        },
        {
          "output_type": "stream",
          "text": [
            "/usr/local/lib/python3.6/dist-packages/ipykernel_launcher.py:3: FutureWarning: Sorting because non-concatenation axis is not aligned. A future version\n",
            "of pandas will change to not sort by default.\n",
            "\n",
            "To accept the future behavior, pass 'sort=False'.\n",
            "\n",
            "To retain the current behavior and silence the warning, pass 'sort=True'.\n",
            "\n",
            "  This is separate from the ipykernel package so we can avoid doing imports until\n"
          ],
          "name": "stderr"
        }
      ]
    },
    {
      "cell_type": "markdown",
      "metadata": {
        "id": "7s4B5J6zIXLQ",
        "colab_type": "text"
      },
      "source": [
        "El preprocesamiento se lleva a cabo con el fin de resolver el problema de los valores perdidos, la conversión de atributos categoricos a numéricos y la eliminación de datos que sean redundantes. Con base en el análisis anterior, las características menos correlacionadas no se toman en cuenta para construir la regresión."
      ]
    },
    {
      "cell_type": "code",
      "metadata": {
        "id": "30SGKC3hG0B_",
        "colab_type": "code",
        "outputId": "0f0b1bbc-271b-4f70-c42c-89d16e7d77b2",
        "colab": {
          "base_uri": "https://localhost:8080/",
          "height": 34
        }
      },
      "source": [
        "all_data = all_data.drop(columns=\"Alley\")\n",
        "all_data = all_data.drop(columns=\"BsmtFinType2\")\n",
        "all_data = all_data.drop(columns=\"Utilities\")\n",
        "all_data = all_data.drop(columns=\"PoolQC\")\n",
        "all_data = all_data.drop(columns=\"MiscVal\")\n",
        "all_data = all_data.drop(columns=\"GarageCond\")\n",
        "all_data = all_data.drop(columns=\"Exterior2nd\")\n",
        "all_data = all_data.drop(columns=\"GarageFinish\")\n",
        "print(\"Tam Total : {}\".format(all_data.shape))\n",
        "\n"
      ],
      "execution_count": 0,
      "outputs": [
        {
          "output_type": "stream",
          "text": [
            "Tam Total : (2919, 72)\n"
          ],
          "name": "stdout"
        }
      ]
    },
    {
      "cell_type": "markdown",
      "metadata": {
        "id": "FVZgHwAlJD9c",
        "colab_type": "text"
      },
      "source": [
        "Usando solamente valores númericos no se toma  en cuenta parte importante de la información de las variables categóricas, por lo que es necesario explorar una forma de incluirlos en la regresión. La conversión de variables categóricas a un código de numeros naturales permite incluirlos en el análisis. "
      ]
    },
    {
      "cell_type": "code",
      "metadata": {
        "id": "aadl50nTJNWA",
        "colab_type": "code",
        "outputId": "2df8eba1-30c8-4129-d9e3-60a51cdab4df",
        "colab": {
          "base_uri": "https://localhost:8080/",
          "height": 156
        }
      },
      "source": [
        "all_data['MasVnrType'] = all_data['MasVnrType'].map({'BrkCmn':'BrkCmn', 'BrkFace':'BrkFace', 'CBlock':'CBlock', 'None':'None', 'Stone':'Stone', 'NA':'None'})\n",
        "all_data['ExterQual'] = all_data['ExterQual'].map({'Ex': 9, 'Gd': 7, 'TA': 5, 'Fa': 3, 'Po': 2})\n",
        "all_data['ExterCond'] = all_data['ExterCond'].map({'Ex': 9, 'Gd': 7, 'TA': 5, 'Fa': 3, 'Po': 2})\n",
        "all_data['BsmtQual'] = all_data['BsmtQual'].map({'Ex': 9, 'Gd': 7, 'TA': 5, 'Fa': 3, 'Po': 2, 'NA': 1})\n",
        "all_data['BsmtCond'] = all_data['BsmtCond'].map({'Ex': 9, 'Gd': 7, 'TA': 5, 'Fa': 3, 'Po': 2, 'NA': 1})\n",
        "all_data['BsmtExposure'] = all_data['BsmtExposure'].map({'Gd': 9, 'Av': 5, 'Mn': 3, 'No': 1, 'NA': 1})\n",
        "all_data['BsmtFinType1'] = all_data['BsmtFinType1'].map({'GLQ': 9, 'ALQ': 7, 'BLQ': 5, 'Rec': 3, 'LWQ': 2, 'Unf':1, 'NA': 0})\n",
        "all_data['HeatingQC'] = all_data['HeatingQC'].map({'Ex': 9, 'Gd': 7, 'TA': 5, 'Fa': 3, 'Po': 2})\n",
        "all_data['CentralAir'] = all_data['CentralAir'].map({'Y': '1', 'N': '0'})\n",
        "all_data['KitchenQual'] = all_data['KitchenQual'].map({'Ex': 9, 'Gd': 7, 'TA': 5, 'Fa': 3, 'Po': 2})\n",
        "all_data['FireplaceQu'] = all_data['FireplaceQu'].map({'Ex': 9, 'Gd': 7, 'TA': 5, 'Fa': 3, 'Po': 2, 'NA': 0})\n",
        "all_data['GarageQual'] = all_data['GarageQual'].map({'Ex': 9, 'Gd': 7, 'TA': 5, 'Fa': 3, 'Po': 2, 'NA': 0})\n",
        "all_data['Fence'] = all_data['Fence'].map({'GdPrv': 9, 'MnPrv': 7, 'GdWo': 5, 'MnWw': 2, 'NA': 0})\n",
        "all_data['Street'] = all_data['Street'].map({'Grvl': 3, 'Pave': 5})\n",
        "all_data['LotShape'] = all_data['LotShape'].map({'Reg': 9, 'IR1': 7, 'IR2': 5, 'IR3': 3})\n",
        "all_data['LotConfig'] = all_data['LotConfig'].map({'Inside': 9, 'Corner': 7, 'CulDSac': 5, 'FR2': 3, 'FR3':1})\n",
        "all_data['LandSlope'] = all_data['LandSlope'].map({'Gtl': 9, 'Mod': 5, 'Sev':2})\n",
        "all_data['PavedDrive'] = all_data['PavedDrive'].map({'Y': 9, 'P': 5, 'N':2})\n",
        "print(all_data.head())"
      ],
      "execution_count": 0,
      "outputs": [
        {
          "output_type": "stream",
          "text": [
            "   1stFlrSF  2ndFlrSF  3SsnPorch  ...  YearBuilt YearRemodAdd  YrSold\n",
            "0       856       854          0  ...       2003         2003    2008\n",
            "1      1262         0          0  ...       1976         1976    2007\n",
            "2       920       866          0  ...       2001         2002    2008\n",
            "3       961       756          0  ...       1915         1970    2006\n",
            "4      1145      1053          0  ...       2000         2000    2008\n",
            "\n",
            "[5 rows x 72 columns]\n"
          ],
          "name": "stdout"
        }
      ]
    },
    {
      "cell_type": "markdown",
      "metadata": {
        "id": "hAR2bTp6JwfI",
        "colab_type": "text"
      },
      "source": [
        "Los valores perdidos son entonces substituidos.\n"
      ]
    },
    {
      "cell_type": "code",
      "metadata": {
        "id": "x2Rpc3C-GYL_",
        "colab_type": "code",
        "outputId": "69c8e13d-1316-44ea-8129-a867e7489c2d",
        "colab": {
          "base_uri": "https://localhost:8080/",
          "height": 156
        }
      },
      "source": [
        "all_data['MiscFeature'] = all_data['MiscFeature'].fillna('No')\n",
        "all_data['Fence'] = all_data['Fence'].fillna(0)\n",
        "all_data['FireplaceQu'] = all_data['FireplaceQu'].fillna(0)\n",
        "all_data['GarageType'] = all_data['GarageType'].fillna('Attchd')\n",
        "all_data['GarageQual'] = all_data['GarageQual'].fillna(0)\n",
        "all_data['BsmtQual'] = all_data['BsmtQual'].fillna(0)\n",
        "all_data['BsmtCond'] = all_data['BsmtCond'].fillna(0)\n",
        "all_data['BsmtExposure'] = all_data['BsmtExposure'].fillna(0)\n",
        "all_data['BsmtFinType1'] = all_data['BsmtFinType1'].fillna(0)\n",
        "all_data['MasVnrType'] = all_data['MasVnrType'].fillna('None')\n",
        "all_data['Electrical'] = all_data['Electrical'].fillna('SBrkr')\n",
        "all_data[\"MasVnrArea\"] = all_data[\"MasVnrArea\"].fillna(0)\n",
        "all_data['KitchenQual'] = all_data['KitchenQual'].fillna(0)\n",
        "all_data['MSZoning'] = all_data['MSZoning'].fillna(all_data['MSZoning'].mode()[0])\n",
        "all_data[\"Functional\"] = all_data[\"Functional\"].fillna(\"Typ\")\n",
        "all_data['Electrical'] = all_data['Electrical'].fillna(all_data['Electrical'].mode()[0])\n",
        "all_data['Exterior1st'] = all_data['Exterior1st'].fillna(all_data['Exterior1st'].mode()[0])\n",
        "all_data['SaleType'] = all_data['SaleType'].fillna(all_data['SaleType'].mode()[0])\n",
        "all_data['MSSubClass'] = all_data['MSSubClass'].fillna(\"None\")\n",
        "\n",
        "for col in ('BsmtFinSF1', 'BsmtFinSF2', 'BsmtUnfSF','TotalBsmtSF', 'BsmtFullBath', 'BsmtHalfBath'):\n",
        "    all_data[col] = all_data[col].fillna(0)\n",
        "for col in ('GarageArea', 'GarageCars'):\n",
        "    all_data[col] = all_data[col].fillna(0)\n",
        "\n",
        "\n",
        "\n",
        "\n",
        "\n",
        "print(all_data.head())\n",
        "\n"
      ],
      "execution_count": 0,
      "outputs": [
        {
          "output_type": "stream",
          "text": [
            "   1stFlrSF  2ndFlrSF  3SsnPorch  ...  YearBuilt YearRemodAdd  YrSold\n",
            "0       856       854          0  ...       2003         2003    2008\n",
            "1      1262         0          0  ...       1976         1976    2007\n",
            "2       920       866          0  ...       2001         2002    2008\n",
            "3       961       756          0  ...       1915         1970    2006\n",
            "4      1145      1053          0  ...       2000         2000    2008\n",
            "\n",
            "[5 rows x 72 columns]\n"
          ],
          "name": "stdout"
        }
      ]
    },
    {
      "cell_type": "markdown",
      "metadata": {
        "id": "7th8nFNSNicn",
        "colab_type": "text"
      },
      "source": [
        "Se identifican si hay valores perdidos"
      ]
    },
    {
      "cell_type": "code",
      "metadata": {
        "id": "z09mQpYhNu4W",
        "colab_type": "code",
        "outputId": "eb12eb55-4905-4fc9-affe-8e0515b55c64",
        "colab": {
          "base_uri": "https://localhost:8080/",
          "height": 86
        }
      },
      "source": [
        "all_data_na = (all_data.isnull().sum() / len(all_data)) * 100\n",
        "all_data_na = all_data_na.drop(all_data_na[all_data_na == 0].index).sort_values(ascending=False)[:30]\n",
        "missing_data = pd.DataFrame({'Missing Ratio' :all_data_na})\n",
        "print(missing_data)"
      ],
      "execution_count": 0,
      "outputs": [
        {
          "output_type": "stream",
          "text": [
            "             Missing Ratio\n",
            "SalePrice        49.982871\n",
            "LotFrontage      16.649538\n",
            "GarageYrBlt       5.447071\n"
          ],
          "name": "stdout"
        }
      ]
    },
    {
      "cell_type": "markdown",
      "metadata": {
        "id": "0lo4ZovgMhVp",
        "colab_type": "text"
      },
      "source": [
        "Es importante comprobar que los cambios realizados no afecten otra propiedad del conjunto de datos\n"
      ]
    },
    {
      "cell_type": "code",
      "metadata": {
        "id": "wNZr6gulMqpa",
        "colab_type": "code",
        "outputId": "c18d7f26-8951-49ad-bafa-7918478302bd",
        "colab": {
          "base_uri": "https://localhost:8080/",
          "height": 34
        }
      },
      "source": [
        "cat = len(all_data.select_dtypes(include=['object']).columns)\n",
        "num = len(all_data.select_dtypes(include=['int64','float64']).columns)\n",
        "print('Total Features: ', cat, 'categorical', '+', num, 'numerical', '=', cat+num, 'features')"
      ],
      "execution_count": 0,
      "outputs": [
        {
          "output_type": "stream",
          "text": [
            "Total Features:  20 categorical + 52 numerical = 72 features\n"
          ],
          "name": "stdout"
        }
      ]
    },
    {
      "cell_type": "markdown",
      "metadata": {
        "id": "BlDtShqjOjGW",
        "colab_type": "text"
      },
      "source": [
        "Se identifica la nueva correlación con el tratamiento que se tiene."
      ]
    },
    {
      "cell_type": "code",
      "metadata": {
        "id": "-hZDSK5dNY-Y",
        "colab_type": "code",
        "outputId": "a309d060-88c9-4f75-d27f-43e20574adaa",
        "colab": {
          "base_uri": "https://localhost:8080/",
          "height": 208
        }
      },
      "source": [
        "corrmat = all_data.corr()\n",
        "\n",
        "\n",
        "\n",
        "k = 10 #number of variables for heatmap\n",
        "cols = corrmat.nlargest(k, 'SalePrice')['SalePrice'].index\n",
        "\n",
        "\n",
        "most_corr = pd.DataFrame(cols)\n",
        "most_corr.columns = ['Most Correlated Features']\n",
        "print(most_corr)"
      ],
      "execution_count": 0,
      "outputs": [
        {
          "output_type": "stream",
          "text": [
            "  Most Correlated Features\n",
            "0                SalePrice\n",
            "1              OverallQual\n",
            "2                GrLivArea\n",
            "3                ExterQual\n",
            "4              KitchenQual\n",
            "5               GarageCars\n",
            "6               GarageArea\n",
            "7              TotalBsmtSF\n",
            "8                 1stFlrSF\n",
            "9                 BsmtQual\n"
          ],
          "name": "stdout"
        }
      ]
    },
    {
      "cell_type": "markdown",
      "metadata": {
        "id": "O7F4gFHlOoqi",
        "colab_type": "text"
      },
      "source": [
        "Se separa la columna objetivo del conjunto de datos tratados y en la sección del entrenamiento se hace un tratamiento logarítmico de esta columna de la forma $ln(x+1)$"
      ]
    },
    {
      "cell_type": "code",
      "metadata": {
        "id": "4qdRIGkVOn19",
        "colab_type": "code",
        "outputId": "5273bdb4-9e9a-4918-acfd-e0a942d9ee35",
        "colab": {
          "base_uri": "https://localhost:8080/",
          "height": 69
        }
      },
      "source": [
        "all_data.drop(['SalePrice'], axis=1, inplace=True)\n",
        " \n",
        "# log(1+x)\n",
        "train[\"SalePrice\"] = np.log1p(train[\"SalePrice\"])\n",
        "(mu, sigma) = norm.fit(train['SalePrice'])\n",
        "print( '\\n mu = {:.2f} and sigma = {:.2f}\\n'.format(mu, sigma))\n",
        "\n",
        "y_train = train.SalePrice.values"
      ],
      "execution_count": 0,
      "outputs": [
        {
          "output_type": "stream",
          "text": [
            "\n",
            " mu = 12.02 and sigma = 0.40\n",
            "\n"
          ],
          "name": "stdout"
        }
      ]
    },
    {
      "cell_type": "markdown",
      "metadata": {
        "id": "2017OAjTPscO",
        "colab_type": "text"
      },
      "source": [
        "Se identifica la kurtosis y skewness de los atributos, además se detectan los que estan más concentrados con respecto a la columna objetivo $SalePrice$."
      ]
    },
    {
      "cell_type": "code",
      "metadata": {
        "id": "PEcc0rhePHQU",
        "colab_type": "code",
        "outputId": "9810d4ce-7c94-4e57-a545-e82aedeca740",
        "colab": {
          "base_uri": "https://localhost:8080/",
          "height": 156
        }
      },
      "source": [
        "print(\"Skewness: %f\" % train['SalePrice'].skew())\n",
        "print(\"Kurtosis: %f\" % train['SalePrice'].kurt())\n",
        "\n",
        "\n",
        "\n",
        "numeric_feats = all_data.dtypes[all_data.dtypes != \"object\"].index\n",
        "\n",
        "# Check the skew of all numerical features\n",
        "skewed_feats = all_data[numeric_feats].apply(lambda x: skew(x.dropna())).sort_values(ascending=False)\n",
        "skewness = pd.DataFrame({'Skewed Features' :skewed_feats})\n",
        "print(skewness.head())"
      ],
      "execution_count": 0,
      "outputs": [
        {
          "output_type": "stream",
          "text": [
            "Skewness: 0.121347\n",
            "Kurtosis: 0.809519\n",
            "              Skewed Features\n",
            "PoolArea            16.898328\n",
            "LotArea             12.822431\n",
            "LowQualFinSF        12.088761\n",
            "3SsnPorch           11.376065\n",
            "KitchenAbvGr         4.302254\n"
          ],
          "name": "stdout"
        }
      ]
    },
    {
      "cell_type": "markdown",
      "metadata": {
        "id": "O3CB65OAeeFS",
        "colab_type": "text"
      },
      "source": [
        "A las variables numéricas del conjunto de datos se le aplica una transformación tipo Box Cox, la cual puede escribirse como:\n",
        "\n",
        "$ y(x,\\lambda ) =\n",
        "  \\begin{cases}\n",
        "  \\frac{(1+x)^{\\lambda} - 1}{\\lambda}  & \\quad \\text{si } \\lambda \\neq 0 \\\\\n",
        "    ln(1+x) & \\quad \\text{si } \\lambda =0\n",
        "  \\end{cases}\n",
        "$\n",
        "\n",
        "Lo que ayuda a aproximar variables dependientes con una cierta distribución de probabilidad a una distribución normal."
      ]
    },
    {
      "cell_type": "code",
      "metadata": {
        "id": "Qvq0usJotYb8",
        "colab_type": "code",
        "outputId": "f7d87134-b775-44d8-e03a-7c4cfe5ec702",
        "colab": {
          "base_uri": "https://localhost:8080/",
          "height": 34
        }
      },
      "source": [
        "skewness = skewness[abs(skewness) > 0.90]\n",
        "print(\"Transformacion Box Cox {}\".format(skewness.shape[0]))\n",
        "\n",
        "skewed_features = skewness.index\n",
        "lam = 0.5\n",
        "for feat in skewed_features:\n",
        "    all_data[feat] = boxcox1p(all_data[feat], lam)\n",
        "    all_data[feat] += 1"
      ],
      "execution_count": 0,
      "outputs": [
        {
          "output_type": "stream",
          "text": [
            "Transformacion Box Cox 51\n"
          ],
          "name": "stdout"
        }
      ]
    },
    {
      "cell_type": "code",
      "metadata": {
        "id": "z1axezhqMp5f",
        "colab_type": "code",
        "outputId": "c7f35314-c32f-4824-a487-74353a8ddd60",
        "colab": {
          "base_uri": "https://localhost:8080/",
          "height": 278
        }
      },
      "source": [
        "all_data = pd.get_dummies(all_data)\n",
        "print(all_data.shape)\n",
        "\n",
        "print(all_data)"
      ],
      "execution_count": 0,
      "outputs": [
        {
          "output_type": "stream",
          "text": [
            "(2919, 200)\n",
            "      1stFlrSF  2ndFlrSF  3SsnPorch  ...  SaleType_New  SaleType_Oth  SaleType_WD\n",
            "0     9.033611  9.030336        1.0  ...             0             0            1\n",
            "1     9.582497  1.000000        1.0  ...             0             0            1\n",
            "2     9.134745  9.049876        1.0  ...             0             0            1\n",
            "3     9.196081  8.860236        1.0  ...             0             0            1\n",
            "4     9.443905  9.325137        1.0  ...             0             0            1\n",
            "...        ...       ...        ...  ...           ...           ...          ...\n",
            "2914  8.411283  8.411283        1.0  ...             0             0            1\n",
            "2915  8.411283  8.411283        1.0  ...             0             0            1\n",
            "2916  9.538872  1.000000        1.0  ...             0             0            1\n",
            "2917  9.209212  1.000000        1.0  ...             0             0            1\n",
            "2918  9.246507  9.257797        1.0  ...             0             0            1\n",
            "\n",
            "[2919 rows x 200 columns]\n"
          ],
          "name": "stdout"
        }
      ]
    },
    {
      "cell_type": "markdown",
      "metadata": {
        "id": "jtIeWNYSuuJn",
        "colab_type": "text"
      },
      "source": [
        "Esto permite validar los últimos valores perdidos tanto para el conjunto de datos de entrenamiento como de prueba mediante la normalización de sus respectivos datos usando sus medias.\n",
        "\n"
      ]
    },
    {
      "cell_type": "code",
      "metadata": {
        "id": "xhpl3IV5uuus",
        "colab_type": "code",
        "outputId": "09078e2b-92e7-4b39-8829-2e47df27f195",
        "colab": {
          "base_uri": "https://localhost:8080/",
          "height": 193
        }
      },
      "source": [
        "train = all_data[:ntrain]\n",
        "test = all_data[ntrain:]\n",
        "\n",
        "print(train.values)\n",
        "train = train.values\n",
        "test =test.values\n",
        "\n",
        "\n",
        "from sklearn.preprocessing import  Imputer\n",
        "imputer = Imputer(strategy = 'mean')\n",
        "\n",
        "imputer.fit(train)\n",
        "\n",
        "train = imputer.transform(train)\n",
        "test = imputer.transform(test)"
      ],
      "execution_count": 0,
      "outputs": [
        {
          "output_type": "stream",
          "text": [
            "[[9.03361062 9.03033585 1.         ... 0.         0.         1.        ]\n",
            " [9.58249678 1.         1.         ... 0.         0.         1.        ]\n",
            " [9.13474461 9.04987631 1.         ... 0.         0.         1.        ]\n",
            " ...\n",
            " [9.4963403  9.45256742 1.         ... 0.         0.         1.        ]\n",
            " [9.35835716 1.         1.         ... 0.         0.         1.        ]\n",
            " [9.57569222 1.         1.         ... 0.         0.         1.        ]]\n"
          ],
          "name": "stdout"
        },
        {
          "output_type": "stream",
          "text": [
            "/usr/local/lib/python3.6/dist-packages/sklearn/utils/deprecation.py:66: DeprecationWarning: Class Imputer is deprecated; Imputer was deprecated in version 0.20 and will be removed in 0.22. Import impute.SimpleImputer from sklearn instead.\n",
            "  warnings.warn(msg, category=DeprecationWarning)\n"
          ],
          "name": "stderr"
        }
      ]
    },
    {
      "cell_type": "markdown",
      "metadata": {
        "id": "mmF8gmWKcNv0",
        "colab_type": "text"
      },
      "source": [
        "Una técnica común para evaluar la calidad de la regresión es mediante la subdivisión del conjunto de datos de entrenamineto en secciones donde una de ellas será probada con el modelo de la regresión. K-Fold permite hacer dichas subdivisiones:\n",
        "\n"
      ]
    },
    {
      "cell_type": "markdown",
      "metadata": {
        "id": "4GJ_UheD_Wj-",
        "colab_type": "text"
      },
      "source": [
        "![texto alternativo](https://drive.google.com/uc?id=1hGsxcMidKv6LO7FxkAs2e2gok-M58J9D)"
      ]
    },
    {
      "cell_type": "markdown",
      "metadata": {
        "id": "56HEIZxkAMRN",
        "colab_type": "text"
      },
      "source": [
        "\n",
        " Para este modelo se realiza esta técnica con un factor $k=10$ fold de validación cruzada con 10 \n",
        "-cross validation con 10 iteraicones para promediar su valor con el modelo de regresión lineal multivariable. \n",
        "\n",
        "# Regresión lineal Múltiple\n",
        "\n",
        "El modelo se basa en buscar la correlación que tienen todos los valores con respecto a los datos objetivo \"$SalePrice$\" o bien, llamada en el modelo la variable dependiente $Y \\rightarrow \\{ y_{0}, ... , y_{n} \\} '$, la cual se describe como:\n",
        "\n",
        "$Y=X_{np} \\cdot b'+e'$\n",
        "\n",
        "Donde $X_{np}$ es la matriz de $p$ características con $n$ muestras, $b$ es el vector de coeficientes (similar a los pesos en redes neuronales) y $e$ es el vector del error lineal para cada muestra.\n",
        "\n",
        "El parámetro de medición del error para este caso es el error cuadrático medio negativo, establecido como:\n",
        "\n",
        "$R^{2}=\\frac{\\sum_{i=1}^{n}(\\hat{y}-\\bar{y})^{2}     +2 \\sum_{i=1}^{n} (y_{i}-\\hat{y})(\\hat{y}-\\bar{y})   }{\\sum_{i=1}^{n}(y_{i}-\\hat{y})^{2}+ \\sum_{i=1}^{n}(\\hat{y}-\\bar{y})^{2} + 2 \\sum_{i=1}^{n} (y_{i}-\\hat{y})(\\hat{y}-\\bar{y})  }$\n",
        "\n"
      ]
    },
    {
      "cell_type": "code",
      "metadata": {
        "id": "CYNFcombQHna",
        "colab_type": "code",
        "outputId": "7a1ed8fa-5f8d-4618-810f-2bb33cc81df4",
        "colab": {
          "base_uri": "https://localhost:8080/",
          "height": 241
        }
      },
      "source": [
        "n_folds = 10\n",
        "\n",
        "def rmsle_cv(model):\n",
        "    kf = KFold(n_folds, shuffle=False, random_state=None)\n",
        "    kf = kf.get_n_splits(train)\n",
        "    rmse= np.sqrt(-cross_val_score(model, train, y_train, scoring=\"neg_mean_squared_error\", cv = kf))\n",
        "    return(rmse)\n",
        "\n",
        "from sklearn.linear_model import LinearRegression\n",
        "\n",
        "model = LinearRegression()\n",
        "model.fit(train,y_train)\n",
        "\n",
        "\n",
        "i = 0\n",
        "promedio = 1\n",
        "score = [0]*promedio\n",
        "while i < promedio:\n",
        "    score[i] = rmsle_cv(model)\n",
        "    i+=1\n",
        "\n",
        "\n",
        "i = 0\n",
        "mean = 0.0\n",
        "std = 0.0\n",
        "\n",
        "while i < promedio:\n",
        "    mean += score[i].mean() \n",
        "    std += score[i].std()\n",
        "    i+=1\n",
        "\n",
        "mean = mean/promedio\n",
        "std = std/promedio\n",
        "\n",
        "\n",
        "\n",
        "print(\"score: {:.4f} ({:.4f})\\n\".format(mean,std))\n",
        "\n",
        "\n",
        "test_pred =  np.expm1(model.predict(test))\n",
        "submit = pd.DataFrame()\n",
        "submit['ID'] = test_ID\n",
        "submit['SalePrice'] = test_pred\n",
        "submit.to_csv('submission_v1.csv',index=False)\n",
        "\n",
        "submit.head()\n"
      ],
      "execution_count": 0,
      "outputs": [
        {
          "output_type": "stream",
          "text": [
            "score: 0.1337 (0.0205)\n",
            "\n"
          ],
          "name": "stdout"
        },
        {
          "output_type": "execute_result",
          "data": {
            "text/html": [
              "<div>\n",
              "<style scoped>\n",
              "    .dataframe tbody tr th:only-of-type {\n",
              "        vertical-align: middle;\n",
              "    }\n",
              "\n",
              "    .dataframe tbody tr th {\n",
              "        vertical-align: top;\n",
              "    }\n",
              "\n",
              "    .dataframe thead th {\n",
              "        text-align: right;\n",
              "    }\n",
              "</style>\n",
              "<table border=\"1\" class=\"dataframe\">\n",
              "  <thead>\n",
              "    <tr style=\"text-align: right;\">\n",
              "      <th></th>\n",
              "      <th>ID</th>\n",
              "      <th>SalePrice</th>\n",
              "    </tr>\n",
              "  </thead>\n",
              "  <tbody>\n",
              "    <tr>\n",
              "      <th>0</th>\n",
              "      <td>1461</td>\n",
              "      <td>116354.325384</td>\n",
              "    </tr>\n",
              "    <tr>\n",
              "      <th>1</th>\n",
              "      <td>1462</td>\n",
              "      <td>166889.439062</td>\n",
              "    </tr>\n",
              "    <tr>\n",
              "      <th>2</th>\n",
              "      <td>1463</td>\n",
              "      <td>183138.009793</td>\n",
              "    </tr>\n",
              "    <tr>\n",
              "      <th>3</th>\n",
              "      <td>1464</td>\n",
              "      <td>194784.942700</td>\n",
              "    </tr>\n",
              "    <tr>\n",
              "      <th>4</th>\n",
              "      <td>1465</td>\n",
              "      <td>208154.695176</td>\n",
              "    </tr>\n",
              "  </tbody>\n",
              "</table>\n",
              "</div>"
            ],
            "text/plain": [
              "     ID      SalePrice\n",
              "0  1461  116354.325384\n",
              "1  1462  166889.439062\n",
              "2  1463  183138.009793\n",
              "3  1464  194784.942700\n",
              "4  1465  208154.695176"
            ]
          },
          "metadata": {
            "tags": []
          },
          "execution_count": 191
        }
      ]
    },
    {
      "cell_type": "code",
      "metadata": {
        "id": "d3G0U6yuw6jP",
        "colab_type": "code",
        "colab": {}
      },
      "source": [
        "train = all_data[:ntrain]\n",
        "test = all_data[ntrain:]"
      ],
      "execution_count": 0,
      "outputs": []
    },
    {
      "cell_type": "code",
      "metadata": {
        "id": "ZL4SiMPRxUn1",
        "colab_type": "code",
        "outputId": "7961fdad-e377-4d24-afed-3137fe574e9f",
        "colab": {
          "base_uri": "https://localhost:8080/",
          "height": 225
        }
      },
      "source": [
        "# Use seaborn for pairplot\n",
        "!pip install seaborn"
      ],
      "execution_count": 0,
      "outputs": [
        {
          "output_type": "stream",
          "text": [
            "Requirement already satisfied: seaborn in /usr/local/lib/python3.6/dist-packages (0.9.0)\n",
            "Requirement already satisfied: numpy>=1.9.3 in /tensorflow-2.0.0/python3.6 (from seaborn) (1.17.3)\n",
            "Requirement already satisfied: matplotlib>=1.4.3 in /usr/local/lib/python3.6/dist-packages (from seaborn) (3.1.1)\n",
            "Requirement already satisfied: scipy>=0.14.0 in /usr/local/lib/python3.6/dist-packages (from seaborn) (1.3.1)\n",
            "Requirement already satisfied: pandas>=0.15.2 in /usr/local/lib/python3.6/dist-packages (from seaborn) (0.25.3)\n",
            "Requirement already satisfied: python-dateutil>=2.1 in /usr/local/lib/python3.6/dist-packages (from matplotlib>=1.4.3->seaborn) (2.6.1)\n",
            "Requirement already satisfied: pyparsing!=2.0.4,!=2.1.2,!=2.1.6,>=2.0.1 in /usr/local/lib/python3.6/dist-packages (from matplotlib>=1.4.3->seaborn) (2.4.4)\n",
            "Requirement already satisfied: kiwisolver>=1.0.1 in /usr/local/lib/python3.6/dist-packages (from matplotlib>=1.4.3->seaborn) (1.1.0)\n",
            "Requirement already satisfied: cycler>=0.10 in /usr/local/lib/python3.6/dist-packages (from matplotlib>=1.4.3->seaborn) (0.10.0)\n",
            "Requirement already satisfied: pytz>=2017.2 in /usr/local/lib/python3.6/dist-packages (from pandas>=0.15.2->seaborn) (2018.9)\n",
            "Requirement already satisfied: six>=1.5 in /tensorflow-2.0.0/python3.6 (from python-dateutil>=2.1->matplotlib>=1.4.3->seaborn) (1.13.0)\n",
            "Requirement already satisfied: setuptools in /tensorflow-2.0.0/python3.6 (from kiwisolver>=1.0.1->matplotlib>=1.4.3->seaborn) (41.6.0)\n"
          ],
          "name": "stdout"
        }
      ]
    },
    {
      "cell_type": "code",
      "metadata": {
        "id": "TvkGC41pxVZD",
        "colab_type": "code",
        "outputId": "b40e529c-69a9-4b94-a20c-6ea489059f3a",
        "colab": {
          "base_uri": "https://localhost:8080/",
          "height": 34
        }
      },
      "source": [
        "from __future__ import absolute_import, division, print_function, unicode_literals\n",
        "\n",
        "import pathlib\n",
        "\n",
        "import matplotlib.pyplot as plt\n",
        "import pandas as pd\n",
        "import seaborn as sns\n",
        "\n",
        "try:\n",
        "  # %tensorflow_version only exists in Colab.\n",
        "  %tensorflow_version 2.x\n",
        "except Exception:\n",
        "  pass\n",
        "import tensorflow as tf\n",
        "\n",
        "from tensorflow import keras\n",
        "from tensorflow.keras import layers\n",
        "\n",
        "print(tf.__version__)"
      ],
      "execution_count": 0,
      "outputs": [
        {
          "output_type": "stream",
          "text": [
            "2.0.0\n"
          ],
          "name": "stdout"
        }
      ]
    },
    {
      "cell_type": "markdown",
      "metadata": {
        "id": "fnChbvXqIIA0",
        "colab_type": "text"
      },
      "source": [
        "Se carga el conjunto de datos de entrenamiento para esta prueba.\n"
      ]
    },
    {
      "cell_type": "code",
      "metadata": {
        "id": "_GGqFCNlxa8u",
        "colab_type": "code",
        "outputId": "aedd990b-c5a9-4966-b0f5-6cc20a005d90",
        "colab": {
          "base_uri": "https://localhost:8080/",
          "height": 226
        }
      },
      "source": [
        "\n",
        "dataset = train.iloc[:, 0:52]\n",
        "precio = train.iloc[:, -1]\n",
        "precios =  pd.DataFrame({'SalePrice': y_train})\n",
        "dataset.tail()"
      ],
      "execution_count": 0,
      "outputs": [
        {
          "output_type": "execute_result",
          "data": {
            "text/html": [
              "<div>\n",
              "<style scoped>\n",
              "    .dataframe tbody tr th:only-of-type {\n",
              "        vertical-align: middle;\n",
              "    }\n",
              "\n",
              "    .dataframe tbody tr th {\n",
              "        vertical-align: top;\n",
              "    }\n",
              "\n",
              "    .dataframe thead th {\n",
              "        text-align: right;\n",
              "    }\n",
              "</style>\n",
              "<table border=\"1\" class=\"dataframe\">\n",
              "  <thead>\n",
              "    <tr style=\"text-align: right;\">\n",
              "      <th></th>\n",
              "      <th>1stFlrSF</th>\n",
              "      <th>2ndFlrSF</th>\n",
              "      <th>3SsnPorch</th>\n",
              "      <th>BedroomAbvGr</th>\n",
              "      <th>BsmtCond</th>\n",
              "      <th>BsmtExposure</th>\n",
              "      <th>BsmtFinSF1</th>\n",
              "      <th>BsmtFinSF2</th>\n",
              "      <th>BsmtFinType1</th>\n",
              "      <th>BsmtFullBath</th>\n",
              "      <th>BsmtHalfBath</th>\n",
              "      <th>BsmtQual</th>\n",
              "      <th>BsmtUnfSF</th>\n",
              "      <th>EnclosedPorch</th>\n",
              "      <th>ExterCond</th>\n",
              "      <th>ExterQual</th>\n",
              "      <th>Fence</th>\n",
              "      <th>FireplaceQu</th>\n",
              "      <th>Fireplaces</th>\n",
              "      <th>FullBath</th>\n",
              "      <th>GarageArea</th>\n",
              "      <th>GarageCars</th>\n",
              "      <th>GarageQual</th>\n",
              "      <th>GarageYrBlt</th>\n",
              "      <th>GrLivArea</th>\n",
              "      <th>HalfBath</th>\n",
              "      <th>HeatingQC</th>\n",
              "      <th>KitchenAbvGr</th>\n",
              "      <th>KitchenQual</th>\n",
              "      <th>LandSlope</th>\n",
              "      <th>LotArea</th>\n",
              "      <th>LotConfig</th>\n",
              "      <th>LotFrontage</th>\n",
              "      <th>LotShape</th>\n",
              "      <th>LowQualFinSF</th>\n",
              "      <th>MSSubClass</th>\n",
              "      <th>MasVnrArea</th>\n",
              "      <th>MoSold</th>\n",
              "      <th>OpenPorchSF</th>\n",
              "      <th>OverallCond</th>\n",
              "      <th>OverallQual</th>\n",
              "      <th>PavedDrive</th>\n",
              "      <th>PoolArea</th>\n",
              "      <th>SalePrice</th>\n",
              "      <th>ScreenPorch</th>\n",
              "      <th>Street</th>\n",
              "      <th>TotRmsAbvGrd</th>\n",
              "      <th>TotalBsmtSF</th>\n",
              "      <th>WoodDeckSF</th>\n",
              "      <th>YearBuilt</th>\n",
              "      <th>YearRemodAdd</th>\n",
              "      <th>YrSold</th>\n",
              "    </tr>\n",
              "  </thead>\n",
              "  <tbody>\n",
              "    <tr>\n",
              "      <th>1455</th>\n",
              "      <td>953</td>\n",
              "      <td>694</td>\n",
              "      <td>0</td>\n",
              "      <td>3</td>\n",
              "      <td>5.0</td>\n",
              "      <td>1.0</td>\n",
              "      <td>0.0</td>\n",
              "      <td>0.0</td>\n",
              "      <td>1.0</td>\n",
              "      <td>0.0</td>\n",
              "      <td>0.0</td>\n",
              "      <td>7.0</td>\n",
              "      <td>953.0</td>\n",
              "      <td>0</td>\n",
              "      <td>5</td>\n",
              "      <td>5</td>\n",
              "      <td>0.0</td>\n",
              "      <td>5.0</td>\n",
              "      <td>1</td>\n",
              "      <td>2</td>\n",
              "      <td>460.0</td>\n",
              "      <td>2.0</td>\n",
              "      <td>5.0</td>\n",
              "      <td>1999.0</td>\n",
              "      <td>1647</td>\n",
              "      <td>1</td>\n",
              "      <td>9</td>\n",
              "      <td>1</td>\n",
              "      <td>5.0</td>\n",
              "      <td>9</td>\n",
              "      <td>7917</td>\n",
              "      <td>9</td>\n",
              "      <td>62.0</td>\n",
              "      <td>9</td>\n",
              "      <td>0</td>\n",
              "      <td>60</td>\n",
              "      <td>0.0</td>\n",
              "      <td>8</td>\n",
              "      <td>40</td>\n",
              "      <td>5</td>\n",
              "      <td>6</td>\n",
              "      <td>9</td>\n",
              "      <td>0</td>\n",
              "      <td>175000.0</td>\n",
              "      <td>0</td>\n",
              "      <td>5</td>\n",
              "      <td>7</td>\n",
              "      <td>953.0</td>\n",
              "      <td>0</td>\n",
              "      <td>1999</td>\n",
              "      <td>2000</td>\n",
              "      <td>2007</td>\n",
              "    </tr>\n",
              "    <tr>\n",
              "      <th>1456</th>\n",
              "      <td>2073</td>\n",
              "      <td>0</td>\n",
              "      <td>0</td>\n",
              "      <td>3</td>\n",
              "      <td>5.0</td>\n",
              "      <td>1.0</td>\n",
              "      <td>790.0</td>\n",
              "      <td>163.0</td>\n",
              "      <td>7.0</td>\n",
              "      <td>1.0</td>\n",
              "      <td>0.0</td>\n",
              "      <td>7.0</td>\n",
              "      <td>589.0</td>\n",
              "      <td>0</td>\n",
              "      <td>5</td>\n",
              "      <td>5</td>\n",
              "      <td>7.0</td>\n",
              "      <td>5.0</td>\n",
              "      <td>2</td>\n",
              "      <td>2</td>\n",
              "      <td>500.0</td>\n",
              "      <td>2.0</td>\n",
              "      <td>5.0</td>\n",
              "      <td>1978.0</td>\n",
              "      <td>2073</td>\n",
              "      <td>0</td>\n",
              "      <td>5</td>\n",
              "      <td>1</td>\n",
              "      <td>5.0</td>\n",
              "      <td>9</td>\n",
              "      <td>13175</td>\n",
              "      <td>9</td>\n",
              "      <td>85.0</td>\n",
              "      <td>9</td>\n",
              "      <td>0</td>\n",
              "      <td>20</td>\n",
              "      <td>119.0</td>\n",
              "      <td>2</td>\n",
              "      <td>0</td>\n",
              "      <td>6</td>\n",
              "      <td>6</td>\n",
              "      <td>9</td>\n",
              "      <td>0</td>\n",
              "      <td>210000.0</td>\n",
              "      <td>0</td>\n",
              "      <td>5</td>\n",
              "      <td>7</td>\n",
              "      <td>1542.0</td>\n",
              "      <td>349</td>\n",
              "      <td>1978</td>\n",
              "      <td>1988</td>\n",
              "      <td>2010</td>\n",
              "    </tr>\n",
              "    <tr>\n",
              "      <th>1457</th>\n",
              "      <td>1188</td>\n",
              "      <td>1152</td>\n",
              "      <td>0</td>\n",
              "      <td>4</td>\n",
              "      <td>7.0</td>\n",
              "      <td>1.0</td>\n",
              "      <td>275.0</td>\n",
              "      <td>0.0</td>\n",
              "      <td>9.0</td>\n",
              "      <td>0.0</td>\n",
              "      <td>0.0</td>\n",
              "      <td>5.0</td>\n",
              "      <td>877.0</td>\n",
              "      <td>0</td>\n",
              "      <td>7</td>\n",
              "      <td>9</td>\n",
              "      <td>9.0</td>\n",
              "      <td>7.0</td>\n",
              "      <td>2</td>\n",
              "      <td>2</td>\n",
              "      <td>252.0</td>\n",
              "      <td>1.0</td>\n",
              "      <td>5.0</td>\n",
              "      <td>1941.0</td>\n",
              "      <td>2340</td>\n",
              "      <td>0</td>\n",
              "      <td>9</td>\n",
              "      <td>1</td>\n",
              "      <td>7.0</td>\n",
              "      <td>9</td>\n",
              "      <td>9042</td>\n",
              "      <td>9</td>\n",
              "      <td>66.0</td>\n",
              "      <td>9</td>\n",
              "      <td>0</td>\n",
              "      <td>70</td>\n",
              "      <td>0.0</td>\n",
              "      <td>5</td>\n",
              "      <td>60</td>\n",
              "      <td>9</td>\n",
              "      <td>7</td>\n",
              "      <td>9</td>\n",
              "      <td>0</td>\n",
              "      <td>266500.0</td>\n",
              "      <td>0</td>\n",
              "      <td>5</td>\n",
              "      <td>9</td>\n",
              "      <td>1152.0</td>\n",
              "      <td>0</td>\n",
              "      <td>1941</td>\n",
              "      <td>2006</td>\n",
              "      <td>2010</td>\n",
              "    </tr>\n",
              "    <tr>\n",
              "      <th>1458</th>\n",
              "      <td>1078</td>\n",
              "      <td>0</td>\n",
              "      <td>0</td>\n",
              "      <td>2</td>\n",
              "      <td>5.0</td>\n",
              "      <td>3.0</td>\n",
              "      <td>49.0</td>\n",
              "      <td>1029.0</td>\n",
              "      <td>9.0</td>\n",
              "      <td>1.0</td>\n",
              "      <td>0.0</td>\n",
              "      <td>5.0</td>\n",
              "      <td>0.0</td>\n",
              "      <td>112</td>\n",
              "      <td>5</td>\n",
              "      <td>5</td>\n",
              "      <td>0.0</td>\n",
              "      <td>0.0</td>\n",
              "      <td>0</td>\n",
              "      <td>1</td>\n",
              "      <td>240.0</td>\n",
              "      <td>1.0</td>\n",
              "      <td>5.0</td>\n",
              "      <td>1950.0</td>\n",
              "      <td>1078</td>\n",
              "      <td>0</td>\n",
              "      <td>7</td>\n",
              "      <td>1</td>\n",
              "      <td>7.0</td>\n",
              "      <td>9</td>\n",
              "      <td>9717</td>\n",
              "      <td>9</td>\n",
              "      <td>68.0</td>\n",
              "      <td>9</td>\n",
              "      <td>0</td>\n",
              "      <td>20</td>\n",
              "      <td>0.0</td>\n",
              "      <td>4</td>\n",
              "      <td>0</td>\n",
              "      <td>6</td>\n",
              "      <td>5</td>\n",
              "      <td>9</td>\n",
              "      <td>0</td>\n",
              "      <td>142125.0</td>\n",
              "      <td>0</td>\n",
              "      <td>5</td>\n",
              "      <td>5</td>\n",
              "      <td>1078.0</td>\n",
              "      <td>366</td>\n",
              "      <td>1950</td>\n",
              "      <td>1996</td>\n",
              "      <td>2010</td>\n",
              "    </tr>\n",
              "    <tr>\n",
              "      <th>1459</th>\n",
              "      <td>1256</td>\n",
              "      <td>0</td>\n",
              "      <td>0</td>\n",
              "      <td>3</td>\n",
              "      <td>5.0</td>\n",
              "      <td>1.0</td>\n",
              "      <td>830.0</td>\n",
              "      <td>290.0</td>\n",
              "      <td>5.0</td>\n",
              "      <td>1.0</td>\n",
              "      <td>0.0</td>\n",
              "      <td>5.0</td>\n",
              "      <td>136.0</td>\n",
              "      <td>0</td>\n",
              "      <td>5</td>\n",
              "      <td>7</td>\n",
              "      <td>0.0</td>\n",
              "      <td>0.0</td>\n",
              "      <td>0</td>\n",
              "      <td>1</td>\n",
              "      <td>276.0</td>\n",
              "      <td>1.0</td>\n",
              "      <td>5.0</td>\n",
              "      <td>1965.0</td>\n",
              "      <td>1256</td>\n",
              "      <td>1</td>\n",
              "      <td>7</td>\n",
              "      <td>1</td>\n",
              "      <td>5.0</td>\n",
              "      <td>9</td>\n",
              "      <td>9937</td>\n",
              "      <td>9</td>\n",
              "      <td>75.0</td>\n",
              "      <td>9</td>\n",
              "      <td>0</td>\n",
              "      <td>20</td>\n",
              "      <td>0.0</td>\n",
              "      <td>6</td>\n",
              "      <td>68</td>\n",
              "      <td>6</td>\n",
              "      <td>5</td>\n",
              "      <td>9</td>\n",
              "      <td>0</td>\n",
              "      <td>147500.0</td>\n",
              "      <td>0</td>\n",
              "      <td>5</td>\n",
              "      <td>6</td>\n",
              "      <td>1256.0</td>\n",
              "      <td>736</td>\n",
              "      <td>1965</td>\n",
              "      <td>1965</td>\n",
              "      <td>2008</td>\n",
              "    </tr>\n",
              "  </tbody>\n",
              "</table>\n",
              "</div>"
            ],
            "text/plain": [
              "      1stFlrSF  2ndFlrSF  3SsnPorch  ...  YearBuilt  YearRemodAdd  YrSold\n",
              "1455       953       694          0  ...       1999          2000    2007\n",
              "1456      2073         0          0  ...       1978          1988    2010\n",
              "1457      1188      1152          0  ...       1941          2006    2010\n",
              "1458      1078         0          0  ...       1950          1996    2010\n",
              "1459      1256         0          0  ...       1965          1965    2008\n",
              "\n",
              "[5 rows x 52 columns]"
            ]
          },
          "metadata": {
            "tags": []
          },
          "execution_count": 81
        }
      ]
    },
    {
      "cell_type": "markdown",
      "metadata": {
        "id": "6sZ9cykOIVlH",
        "colab_type": "text"
      },
      "source": [
        "El set de datos contiene algunos valores desconocidos, se sustituyen por 0"
      ]
    },
    {
      "cell_type": "code",
      "metadata": {
        "id": "fF8A69qyIUwz",
        "colab_type": "code",
        "colab": {}
      },
      "source": [
        "dataset = dataset.fillna(0)\n"
      ],
      "execution_count": 0,
      "outputs": []
    },
    {
      "cell_type": "markdown",
      "metadata": {
        "id": "WMHmKCVMJFw5",
        "colab_type": "text"
      },
      "source": [
        "Se dividen los datos en entrenamiento y validación. Los datos del archivo de entrenamiento se dividen en subconjuntos tanto de entrenamiento como de validación."
      ]
    },
    {
      "cell_type": "code",
      "metadata": {
        "id": "rZN08AVYIZCC",
        "colab_type": "code",
        "outputId": "b1327f85-fee6-47e0-c048-c152fd19a00f",
        "colab": {
          "base_uri": "https://localhost:8080/",
          "height": 260
        }
      },
      "source": [
        "train_dataset = dataset.sample(frac=0.8,random_state=0)\n",
        "val_dataset = dataset.drop(train_dataset.index)\n",
        "print(train_dataset)"
      ],
      "execution_count": 0,
      "outputs": [
        {
          "output_type": "stream",
          "text": [
            "      1stFlrSF  2ndFlrSF  3SsnPorch  ...  YearBuilt  YearRemodAdd  YrSold\n",
            "529       2515         0          0  ...       1957          1975    2007\n",
            "491        958       620          0  ...       1941          1950    2006\n",
            "459        979       224          0  ...       1950          1950    2009\n",
            "279       1156       866          0  ...       1977          1977    2008\n",
            "655        525       567          0  ...       1971          1971    2010\n",
            "...        ...       ...        ...  ...        ...           ...     ...\n",
            "1168      1236       872          0  ...       1935          1986    2008\n",
            "455       1242         0          0  ...       1973          1973    2007\n",
            "584        989       584          0  ...       1935          1995    2009\n",
            "147        884      1151          0  ...       2001          2001    2010\n",
            "160       1232         0          0  ...       1984          1984    2008\n",
            "\n",
            "[1168 rows x 52 columns]\n"
          ],
          "name": "stdout"
        }
      ]
    },
    {
      "cell_type": "markdown",
      "metadata": {
        "id": "EFiwuPAoJM9z",
        "colab_type": "text"
      },
      "source": [
        "Inspección de los datos\n",
        "\n",
        "Se revisa la distribución conjunta de un par de columnas de el set de entrenamiento."
      ]
    },
    {
      "cell_type": "code",
      "metadata": {
        "id": "KNgnBWFzxhT7",
        "colab_type": "code",
        "outputId": "ee7a415c-1599-4325-8346-3d9dacec961e",
        "colab": {
          "base_uri": "https://localhost:8080/",
          "height": 745
        }
      },
      "source": [
        "sns.pairplot(train[[\"SalePrice\", \"LotArea\", \"OverallQual\", \"YearBuilt\"]], diag_kind=\"kde\")"
      ],
      "execution_count": 0,
      "outputs": [
        {
          "output_type": "execute_result",
          "data": {
            "text/plain": [
              "<seaborn.axisgrid.PairGrid at 0x7fd1aeb41b38>"
            ]
          },
          "metadata": {
            "tags": []
          },
          "execution_count": 84
        },
        {
          "output_type": "display_data",
          "data": {
            "image/png": "[encoded data removed]",
            "text/plain": [
              "<Figure size 720x720 with 20 Axes>"
            ]
          },
          "metadata": {
            "tags": []
          }
        }
      ]
    },
    {
      "cell_type": "markdown",
      "metadata": {
        "id": "z53v4IfuJ2NG",
        "colab_type": "text"
      },
      "source": [
        "Tambien se revisan las estadisticas generales:\n"
      ]
    },
    {
      "cell_type": "code",
      "metadata": {
        "id": "9qDZV94VKDq9",
        "colab_type": "code",
        "outputId": "1c2eb281-d990-4a83-9df3-2696447ecd51",
        "colab": {
          "base_uri": "https://localhost:8080/",
          "height": 1000
        }
      },
      "source": [
        "train_stats = train_dataset.describe()\n",
        "#train_stats.pop(\"SalePrice\")\n",
        "train_stats = train_stats.transpose()\n",
        "train_stats"
      ],
      "execution_count": 0,
      "outputs": [
        {
          "output_type": "execute_result",
          "data": {
            "text/html": [
              "<div>\n",
              "<style scoped>\n",
              "    .dataframe tbody tr th:only-of-type {\n",
              "        vertical-align: middle;\n",
              "    }\n",
              "\n",
              "    .dataframe tbody tr th {\n",
              "        vertical-align: top;\n",
              "    }\n",
              "\n",
              "    .dataframe thead th {\n",
              "        text-align: right;\n",
              "    }\n",
              "</style>\n",
              "<table border=\"1\" class=\"dataframe\">\n",
              "  <thead>\n",
              "    <tr style=\"text-align: right;\">\n",
              "      <th></th>\n",
              "      <th>count</th>\n",
              "      <th>mean</th>\n",
              "      <th>std</th>\n",
              "      <th>min</th>\n",
              "      <th>25%</th>\n",
              "      <th>50%</th>\n",
              "      <th>75%</th>\n",
              "      <th>max</th>\n",
              "    </tr>\n",
              "  </thead>\n",
              "  <tbody>\n",
              "    <tr>\n",
              "      <th>1stFlrSF</th>\n",
              "      <td>1168.0</td>\n",
              "      <td>1168.434075</td>\n",
              "      <td>393.668825</td>\n",
              "      <td>334.0</td>\n",
              "      <td>882.00</td>\n",
              "      <td>1096.0</td>\n",
              "      <td>1391.25</td>\n",
              "      <td>4692.0</td>\n",
              "    </tr>\n",
              "    <tr>\n",
              "      <th>2ndFlrSF</th>\n",
              "      <td>1168.0</td>\n",
              "      <td>355.280822</td>\n",
              "      <td>441.948969</td>\n",
              "      <td>0.0</td>\n",
              "      <td>0.00</td>\n",
              "      <td>0.0</td>\n",
              "      <td>729.25</td>\n",
              "      <td>2065.0</td>\n",
              "    </tr>\n",
              "    <tr>\n",
              "      <th>3SsnPorch</th>\n",
              "      <td>1168.0</td>\n",
              "      <td>3.969178</td>\n",
              "      <td>31.985790</td>\n",
              "      <td>0.0</td>\n",
              "      <td>0.00</td>\n",
              "      <td>0.0</td>\n",
              "      <td>0.00</td>\n",
              "      <td>508.0</td>\n",
              "    </tr>\n",
              "    <tr>\n",
              "      <th>BedroomAbvGr</th>\n",
              "      <td>1168.0</td>\n",
              "      <td>2.861301</td>\n",
              "      <td>0.824606</td>\n",
              "      <td>0.0</td>\n",
              "      <td>2.00</td>\n",
              "      <td>3.0</td>\n",
              "      <td>3.00</td>\n",
              "      <td>8.0</td>\n",
              "    </tr>\n",
              "    <tr>\n",
              "      <th>BsmtCond</th>\n",
              "      <td>1168.0</td>\n",
              "      <td>4.913527</td>\n",
              "      <td>0.958552</td>\n",
              "      <td>0.0</td>\n",
              "      <td>5.00</td>\n",
              "      <td>5.0</td>\n",
              "      <td>5.00</td>\n",
              "      <td>7.0</td>\n",
              "    </tr>\n",
              "    <tr>\n",
              "      <th>BsmtExposure</th>\n",
              "      <td>1168.0</td>\n",
              "      <td>2.509418</td>\n",
              "      <td>2.567995</td>\n",
              "      <td>0.0</td>\n",
              "      <td>1.00</td>\n",
              "      <td>1.0</td>\n",
              "      <td>3.00</td>\n",
              "      <td>9.0</td>\n",
              "    </tr>\n",
              "    <tr>\n",
              "      <th>BsmtFinSF1</th>\n",
              "      <td>1168.0</td>\n",
              "      <td>443.898973</td>\n",
              "      <td>467.494644</td>\n",
              "      <td>0.0</td>\n",
              "      <td>0.00</td>\n",
              "      <td>375.0</td>\n",
              "      <td>719.25</td>\n",
              "      <td>5644.0</td>\n",
              "    </tr>\n",
              "    <tr>\n",
              "      <th>BsmtFinSF2</th>\n",
              "      <td>1168.0</td>\n",
              "      <td>46.504281</td>\n",
              "      <td>165.306918</td>\n",
              "      <td>0.0</td>\n",
              "      <td>0.00</td>\n",
              "      <td>0.0</td>\n",
              "      <td>0.00</td>\n",
              "      <td>1474.0</td>\n",
              "    </tr>\n",
              "    <tr>\n",
              "      <th>BsmtFinType1</th>\n",
              "      <td>1168.0</td>\n",
              "      <td>4.745719</td>\n",
              "      <td>3.499967</td>\n",
              "      <td>0.0</td>\n",
              "      <td>1.00</td>\n",
              "      <td>5.0</td>\n",
              "      <td>9.00</td>\n",
              "      <td>9.0</td>\n",
              "    </tr>\n",
              "    <tr>\n",
              "      <th>BsmtFullBath</th>\n",
              "      <td>1168.0</td>\n",
              "      <td>0.429795</td>\n",
              "      <td>0.522209</td>\n",
              "      <td>0.0</td>\n",
              "      <td>0.00</td>\n",
              "      <td>0.0</td>\n",
              "      <td>1.00</td>\n",
              "      <td>3.0</td>\n",
              "    </tr>\n",
              "    <tr>\n",
              "      <th>BsmtHalfBath</th>\n",
              "      <td>1168.0</td>\n",
              "      <td>0.056507</td>\n",
              "      <td>0.234677</td>\n",
              "      <td>0.0</td>\n",
              "      <td>0.00</td>\n",
              "      <td>0.0</td>\n",
              "      <td>0.00</td>\n",
              "      <td>2.0</td>\n",
              "    </tr>\n",
              "    <tr>\n",
              "      <th>BsmtQual</th>\n",
              "      <td>1168.0</td>\n",
              "      <td>6.030822</td>\n",
              "      <td>1.664924</td>\n",
              "      <td>0.0</td>\n",
              "      <td>5.00</td>\n",
              "      <td>7.0</td>\n",
              "      <td>7.00</td>\n",
              "      <td>9.0</td>\n",
              "    </tr>\n",
              "    <tr>\n",
              "      <th>BsmtUnfSF</th>\n",
              "      <td>1168.0</td>\n",
              "      <td>575.950342</td>\n",
              "      <td>445.558534</td>\n",
              "      <td>0.0</td>\n",
              "      <td>233.00</td>\n",
              "      <td>490.5</td>\n",
              "      <td>811.00</td>\n",
              "      <td>2336.0</td>\n",
              "    </tr>\n",
              "    <tr>\n",
              "      <th>EnclosedPorch</th>\n",
              "      <td>1168.0</td>\n",
              "      <td>22.957192</td>\n",
              "      <td>61.617680</td>\n",
              "      <td>0.0</td>\n",
              "      <td>0.00</td>\n",
              "      <td>0.0</td>\n",
              "      <td>0.00</td>\n",
              "      <td>386.0</td>\n",
              "    </tr>\n",
              "    <tr>\n",
              "      <th>ExterCond</th>\n",
              "      <td>1168.0</td>\n",
              "      <td>5.166952</td>\n",
              "      <td>0.695465</td>\n",
              "      <td>2.0</td>\n",
              "      <td>5.00</td>\n",
              "      <td>5.0</td>\n",
              "      <td>5.00</td>\n",
              "      <td>9.0</td>\n",
              "    </tr>\n",
              "    <tr>\n",
              "      <th>ExterQual</th>\n",
              "      <td>1168.0</td>\n",
              "      <td>5.816781</td>\n",
              "      <td>1.162389</td>\n",
              "      <td>3.0</td>\n",
              "      <td>5.00</td>\n",
              "      <td>5.0</td>\n",
              "      <td>7.00</td>\n",
              "      <td>9.0</td>\n",
              "    </tr>\n",
              "    <tr>\n",
              "      <th>Fence</th>\n",
              "      <td>1168.0</td>\n",
              "      <td>1.317637</td>\n",
              "      <td>2.799675</td>\n",
              "      <td>0.0</td>\n",
              "      <td>0.00</td>\n",
              "      <td>0.0</td>\n",
              "      <td>0.00</td>\n",
              "      <td>9.0</td>\n",
              "    </tr>\n",
              "    <tr>\n",
              "      <th>FireplaceQu</th>\n",
              "      <td>1168.0</td>\n",
              "      <td>3.200342</td>\n",
              "      <td>3.157820</td>\n",
              "      <td>0.0</td>\n",
              "      <td>0.00</td>\n",
              "      <td>4.0</td>\n",
              "      <td>7.00</td>\n",
              "      <td>9.0</td>\n",
              "    </tr>\n",
              "    <tr>\n",
              "      <th>Fireplaces</th>\n",
              "      <td>1168.0</td>\n",
              "      <td>0.621575</td>\n",
              "      <td>0.645820</td>\n",
              "      <td>0.0</td>\n",
              "      <td>0.00</td>\n",
              "      <td>1.0</td>\n",
              "      <td>1.00</td>\n",
              "      <td>3.0</td>\n",
              "    </tr>\n",
              "    <tr>\n",
              "      <th>FullBath</th>\n",
              "      <td>1168.0</td>\n",
              "      <td>1.567637</td>\n",
              "      <td>0.557458</td>\n",
              "      <td>0.0</td>\n",
              "      <td>1.00</td>\n",
              "      <td>2.0</td>\n",
              "      <td>2.00</td>\n",
              "      <td>3.0</td>\n",
              "    </tr>\n",
              "    <tr>\n",
              "      <th>GarageArea</th>\n",
              "      <td>1168.0</td>\n",
              "      <td>477.242295</td>\n",
              "      <td>218.918625</td>\n",
              "      <td>0.0</td>\n",
              "      <td>336.00</td>\n",
              "      <td>480.0</td>\n",
              "      <td>576.00</td>\n",
              "      <td>1418.0</td>\n",
              "    </tr>\n",
              "    <tr>\n",
              "      <th>GarageCars</th>\n",
              "      <td>1168.0</td>\n",
              "      <td>1.784247</td>\n",
              "      <td>0.765377</td>\n",
              "      <td>0.0</td>\n",
              "      <td>1.00</td>\n",
              "      <td>2.0</td>\n",
              "      <td>2.00</td>\n",
              "      <td>4.0</td>\n",
              "    </tr>\n",
              "    <tr>\n",
              "      <th>GarageQual</th>\n",
              "      <td>1168.0</td>\n",
              "      <td>4.679795</td>\n",
              "      <td>1.243404</td>\n",
              "      <td>0.0</td>\n",
              "      <td>5.00</td>\n",
              "      <td>5.0</td>\n",
              "      <td>5.00</td>\n",
              "      <td>9.0</td>\n",
              "    </tr>\n",
              "    <tr>\n",
              "      <th>GarageYrBlt</th>\n",
              "      <td>1168.0</td>\n",
              "      <td>1865.395548</td>\n",
              "      <td>460.994199</td>\n",
              "      <td>0.0</td>\n",
              "      <td>1958.00</td>\n",
              "      <td>1978.0</td>\n",
              "      <td>2002.00</td>\n",
              "      <td>2010.0</td>\n",
              "    </tr>\n",
              "    <tr>\n",
              "      <th>GrLivArea</th>\n",
              "      <td>1168.0</td>\n",
              "      <td>1530.639555</td>\n",
              "      <td>533.546956</td>\n",
              "      <td>334.0</td>\n",
              "      <td>1152.00</td>\n",
              "      <td>1470.0</td>\n",
              "      <td>1792.00</td>\n",
              "      <td>5642.0</td>\n",
              "    </tr>\n",
              "    <tr>\n",
              "      <th>HalfBath</th>\n",
              "      <td>1168.0</td>\n",
              "      <td>0.391267</td>\n",
              "      <td>0.507181</td>\n",
              "      <td>0.0</td>\n",
              "      <td>0.00</td>\n",
              "      <td>0.0</td>\n",
              "      <td>1.00</td>\n",
              "      <td>2.0</td>\n",
              "    </tr>\n",
              "    <tr>\n",
              "      <th>HeatingQC</th>\n",
              "      <td>1168.0</td>\n",
              "      <td>7.298801</td>\n",
              "      <td>1.928614</td>\n",
              "      <td>2.0</td>\n",
              "      <td>5.00</td>\n",
              "      <td>9.0</td>\n",
              "      <td>9.00</td>\n",
              "      <td>9.0</td>\n",
              "    </tr>\n",
              "    <tr>\n",
              "      <th>KitchenAbvGr</th>\n",
              "      <td>1168.0</td>\n",
              "      <td>1.047089</td>\n",
              "      <td>0.215926</td>\n",
              "      <td>1.0</td>\n",
              "      <td>1.00</td>\n",
              "      <td>1.0</td>\n",
              "      <td>1.00</td>\n",
              "      <td>3.0</td>\n",
              "    </tr>\n",
              "    <tr>\n",
              "      <th>KitchenQual</th>\n",
              "      <td>1168.0</td>\n",
              "      <td>6.044521</td>\n",
              "      <td>1.329155</td>\n",
              "      <td>3.0</td>\n",
              "      <td>5.00</td>\n",
              "      <td>5.0</td>\n",
              "      <td>7.00</td>\n",
              "      <td>9.0</td>\n",
              "    </tr>\n",
              "    <tr>\n",
              "      <th>LandSlope</th>\n",
              "      <td>1168.0</td>\n",
              "      <td>8.765411</td>\n",
              "      <td>1.031518</td>\n",
              "      <td>2.0</td>\n",
              "      <td>9.00</td>\n",
              "      <td>9.0</td>\n",
              "      <td>9.00</td>\n",
              "      <td>9.0</td>\n",
              "    </tr>\n",
              "    <tr>\n",
              "      <th>LotArea</th>\n",
              "      <td>1168.0</td>\n",
              "      <td>10549.443493</td>\n",
              "      <td>9906.540386</td>\n",
              "      <td>1477.0</td>\n",
              "      <td>7526.25</td>\n",
              "      <td>9522.5</td>\n",
              "      <td>11649.75</td>\n",
              "      <td>215245.0</td>\n",
              "    </tr>\n",
              "    <tr>\n",
              "      <th>LotConfig</th>\n",
              "      <td>1168.0</td>\n",
              "      <td>8.169521</td>\n",
              "      <td>1.581392</td>\n",
              "      <td>1.0</td>\n",
              "      <td>7.00</td>\n",
              "      <td>9.0</td>\n",
              "      <td>9.00</td>\n",
              "      <td>9.0</td>\n",
              "    </tr>\n",
              "    <tr>\n",
              "      <th>LotFrontage</th>\n",
              "      <td>1168.0</td>\n",
              "      <td>57.885274</td>\n",
              "      <td>34.442066</td>\n",
              "      <td>0.0</td>\n",
              "      <td>43.00</td>\n",
              "      <td>63.0</td>\n",
              "      <td>79.00</td>\n",
              "      <td>313.0</td>\n",
              "    </tr>\n",
              "    <tr>\n",
              "      <th>LotShape</th>\n",
              "      <td>1168.0</td>\n",
              "      <td>8.176370</td>\n",
              "      <td>1.180993</td>\n",
              "      <td>3.0</td>\n",
              "      <td>7.00</td>\n",
              "      <td>9.0</td>\n",
              "      <td>9.00</td>\n",
              "      <td>9.0</td>\n",
              "    </tr>\n",
              "    <tr>\n",
              "      <th>LowQualFinSF</th>\n",
              "      <td>1168.0</td>\n",
              "      <td>6.924658</td>\n",
              "      <td>53.069980</td>\n",
              "      <td>0.0</td>\n",
              "      <td>0.00</td>\n",
              "      <td>0.0</td>\n",
              "      <td>0.00</td>\n",
              "      <td>572.0</td>\n",
              "    </tr>\n",
              "    <tr>\n",
              "      <th>MSSubClass</th>\n",
              "      <td>1168.0</td>\n",
              "      <td>57.572774</td>\n",
              "      <td>42.053072</td>\n",
              "      <td>20.0</td>\n",
              "      <td>20.00</td>\n",
              "      <td>50.0</td>\n",
              "      <td>70.00</td>\n",
              "      <td>190.0</td>\n",
              "    </tr>\n",
              "    <tr>\n",
              "      <th>MasVnrArea</th>\n",
              "      <td>1168.0</td>\n",
              "      <td>105.777397</td>\n",
              "      <td>177.922742</td>\n",
              "      <td>0.0</td>\n",
              "      <td>0.00</td>\n",
              "      <td>0.0</td>\n",
              "      <td>170.00</td>\n",
              "      <td>1378.0</td>\n",
              "    </tr>\n",
              "    <tr>\n",
              "      <th>MoSold</th>\n",
              "      <td>1168.0</td>\n",
              "      <td>6.366438</td>\n",
              "      <td>2.701544</td>\n",
              "      <td>1.0</td>\n",
              "      <td>5.00</td>\n",
              "      <td>6.0</td>\n",
              "      <td>8.00</td>\n",
              "      <td>12.0</td>\n",
              "    </tr>\n",
              "    <tr>\n",
              "      <th>OpenPorchSF</th>\n",
              "      <td>1168.0</td>\n",
              "      <td>47.025685</td>\n",
              "      <td>65.318711</td>\n",
              "      <td>0.0</td>\n",
              "      <td>0.00</td>\n",
              "      <td>27.0</td>\n",
              "      <td>68.00</td>\n",
              "      <td>523.0</td>\n",
              "    </tr>\n",
              "    <tr>\n",
              "      <th>OverallCond</th>\n",
              "      <td>1168.0</td>\n",
              "      <td>5.586473</td>\n",
              "      <td>1.124345</td>\n",
              "      <td>1.0</td>\n",
              "      <td>5.00</td>\n",
              "      <td>5.0</td>\n",
              "      <td>6.00</td>\n",
              "      <td>9.0</td>\n",
              "    </tr>\n",
              "    <tr>\n",
              "      <th>OverallQual</th>\n",
              "      <td>1168.0</td>\n",
              "      <td>6.153253</td>\n",
              "      <td>1.403743</td>\n",
              "      <td>1.0</td>\n",
              "      <td>5.00</td>\n",
              "      <td>6.0</td>\n",
              "      <td>7.00</td>\n",
              "      <td>10.0</td>\n",
              "    </tr>\n",
              "    <tr>\n",
              "      <th>PavedDrive</th>\n",
              "      <td>1168.0</td>\n",
              "      <td>8.509418</td>\n",
              "      <td>1.711370</td>\n",
              "      <td>2.0</td>\n",
              "      <td>9.00</td>\n",
              "      <td>9.0</td>\n",
              "      <td>9.00</td>\n",
              "      <td>9.0</td>\n",
              "    </tr>\n",
              "    <tr>\n",
              "      <th>PoolArea</th>\n",
              "      <td>1168.0</td>\n",
              "      <td>3.010274</td>\n",
              "      <td>42.354908</td>\n",
              "      <td>0.0</td>\n",
              "      <td>0.00</td>\n",
              "      <td>0.0</td>\n",
              "      <td>0.00</td>\n",
              "      <td>738.0</td>\n",
              "    </tr>\n",
              "    <tr>\n",
              "      <th>ScreenPorch</th>\n",
              "      <td>1168.0</td>\n",
              "      <td>14.428082</td>\n",
              "      <td>54.694352</td>\n",
              "      <td>0.0</td>\n",
              "      <td>0.00</td>\n",
              "      <td>0.0</td>\n",
              "      <td>0.00</td>\n",
              "      <td>440.0</td>\n",
              "    </tr>\n",
              "    <tr>\n",
              "      <th>Street</th>\n",
              "      <td>1168.0</td>\n",
              "      <td>4.993151</td>\n",
              "      <td>0.116891</td>\n",
              "      <td>3.0</td>\n",
              "      <td>5.00</td>\n",
              "      <td>5.0</td>\n",
              "      <td>5.00</td>\n",
              "      <td>5.0</td>\n",
              "    </tr>\n",
              "    <tr>\n",
              "      <th>TotRmsAbvGrd</th>\n",
              "      <td>1168.0</td>\n",
              "      <td>6.553082</td>\n",
              "      <td>1.641030</td>\n",
              "      <td>2.0</td>\n",
              "      <td>5.00</td>\n",
              "      <td>6.0</td>\n",
              "      <td>7.00</td>\n",
              "      <td>14.0</td>\n",
              "    </tr>\n",
              "    <tr>\n",
              "      <th>TotalBsmtSF</th>\n",
              "      <td>1168.0</td>\n",
              "      <td>1066.353596</td>\n",
              "      <td>449.318304</td>\n",
              "      <td>0.0</td>\n",
              "      <td>792.75</td>\n",
              "      <td>1004.0</td>\n",
              "      <td>1311.75</td>\n",
              "      <td>6110.0</td>\n",
              "    </tr>\n",
              "    <tr>\n",
              "      <th>WoodDeckSF</th>\n",
              "      <td>1168.0</td>\n",
              "      <td>94.364726</td>\n",
              "      <td>123.585219</td>\n",
              "      <td>0.0</td>\n",
              "      <td>0.00</td>\n",
              "      <td>0.0</td>\n",
              "      <td>168.00</td>\n",
              "      <td>857.0</td>\n",
              "    </tr>\n",
              "    <tr>\n",
              "      <th>YearBuilt</th>\n",
              "      <td>1168.0</td>\n",
              "      <td>1971.179795</td>\n",
              "      <td>30.936320</td>\n",
              "      <td>1872.0</td>\n",
              "      <td>1951.75</td>\n",
              "      <td>1973.0</td>\n",
              "      <td>2001.00</td>\n",
              "      <td>2010.0</td>\n",
              "    </tr>\n",
              "    <tr>\n",
              "      <th>YearRemodAdd</th>\n",
              "      <td>1168.0</td>\n",
              "      <td>1985.088185</td>\n",
              "      <td>20.816905</td>\n",
              "      <td>1950.0</td>\n",
              "      <td>1966.00</td>\n",
              "      <td>1994.0</td>\n",
              "      <td>2004.00</td>\n",
              "      <td>2010.0</td>\n",
              "    </tr>\n",
              "    <tr>\n",
              "      <th>YrSold</th>\n",
              "      <td>1168.0</td>\n",
              "      <td>2007.819349</td>\n",
              "      <td>1.318539</td>\n",
              "      <td>2006.0</td>\n",
              "      <td>2007.00</td>\n",
              "      <td>2008.0</td>\n",
              "      <td>2009.00</td>\n",
              "      <td>2010.0</td>\n",
              "    </tr>\n",
              "  </tbody>\n",
              "</table>\n",
              "</div>"
            ],
            "text/plain": [
              "                count          mean          std  ...     50%       75%       max\n",
              "1stFlrSF       1168.0   1168.434075   393.668825  ...  1096.0   1391.25    4692.0\n",
              "2ndFlrSF       1168.0    355.280822   441.948969  ...     0.0    729.25    2065.0\n",
              "3SsnPorch      1168.0      3.969178    31.985790  ...     0.0      0.00     508.0\n",
              "BedroomAbvGr   1168.0      2.861301     0.824606  ...     3.0      3.00       8.0\n",
              "BsmtCond       1168.0      4.913527     0.958552  ...     5.0      5.00       7.0\n",
              "BsmtExposure   1168.0      2.509418     2.567995  ...     1.0      3.00       9.0\n",
              "BsmtFinSF1     1168.0    443.898973   467.494644  ...   375.0    719.25    5644.0\n",
              "BsmtFinSF2     1168.0     46.504281   165.306918  ...     0.0      0.00    1474.0\n",
              "BsmtFinType1   1168.0      4.745719     3.499967  ...     5.0      9.00       9.0\n",
              "BsmtFullBath   1168.0      0.429795     0.522209  ...     0.0      1.00       3.0\n",
              "BsmtHalfBath   1168.0      0.056507     0.234677  ...     0.0      0.00       2.0\n",
              "BsmtQual       1168.0      6.030822     1.664924  ...     7.0      7.00       9.0\n",
              "BsmtUnfSF      1168.0    575.950342   445.558534  ...   490.5    811.00    2336.0\n",
              "EnclosedPorch  1168.0     22.957192    61.617680  ...     0.0      0.00     386.0\n",
              "ExterCond      1168.0      5.166952     0.695465  ...     5.0      5.00       9.0\n",
              "ExterQual      1168.0      5.816781     1.162389  ...     5.0      7.00       9.0\n",
              "Fence          1168.0      1.317637     2.799675  ...     0.0      0.00       9.0\n",
              "FireplaceQu    1168.0      3.200342     3.157820  ...     4.0      7.00       9.0\n",
              "Fireplaces     1168.0      0.621575     0.645820  ...     1.0      1.00       3.0\n",
              "FullBath       1168.0      1.567637     0.557458  ...     2.0      2.00       3.0\n",
              "GarageArea     1168.0    477.242295   218.918625  ...   480.0    576.00    1418.0\n",
              "GarageCars     1168.0      1.784247     0.765377  ...     2.0      2.00       4.0\n",
              "GarageQual     1168.0      4.679795     1.243404  ...     5.0      5.00       9.0\n",
              "GarageYrBlt    1168.0   1865.395548   460.994199  ...  1978.0   2002.00    2010.0\n",
              "GrLivArea      1168.0   1530.639555   533.546956  ...  1470.0   1792.00    5642.0\n",
              "HalfBath       1168.0      0.391267     0.507181  ...     0.0      1.00       2.0\n",
              "HeatingQC      1168.0      7.298801     1.928614  ...     9.0      9.00       9.0\n",
              "KitchenAbvGr   1168.0      1.047089     0.215926  ...     1.0      1.00       3.0\n",
              "KitchenQual    1168.0      6.044521     1.329155  ...     5.0      7.00       9.0\n",
              "LandSlope      1168.0      8.765411     1.031518  ...     9.0      9.00       9.0\n",
              "LotArea        1168.0  10549.443493  9906.540386  ...  9522.5  11649.75  215245.0\n",
              "LotConfig      1168.0      8.169521     1.581392  ...     9.0      9.00       9.0\n",
              "LotFrontage    1168.0     57.885274    34.442066  ...    63.0     79.00     313.0\n",
              "LotShape       1168.0      8.176370     1.180993  ...     9.0      9.00       9.0\n",
              "LowQualFinSF   1168.0      6.924658    53.069980  ...     0.0      0.00     572.0\n",
              "MSSubClass     1168.0     57.572774    42.053072  ...    50.0     70.00     190.0\n",
              "MasVnrArea     1168.0    105.777397   177.922742  ...     0.0    170.00    1378.0\n",
              "MoSold         1168.0      6.366438     2.701544  ...     6.0      8.00      12.0\n",
              "OpenPorchSF    1168.0     47.025685    65.318711  ...    27.0     68.00     523.0\n",
              "OverallCond    1168.0      5.586473     1.124345  ...     5.0      6.00       9.0\n",
              "OverallQual    1168.0      6.153253     1.403743  ...     6.0      7.00      10.0\n",
              "PavedDrive     1168.0      8.509418     1.711370  ...     9.0      9.00       9.0\n",
              "PoolArea       1168.0      3.010274    42.354908  ...     0.0      0.00     738.0\n",
              "ScreenPorch    1168.0     14.428082    54.694352  ...     0.0      0.00     440.0\n",
              "Street         1168.0      4.993151     0.116891  ...     5.0      5.00       5.0\n",
              "TotRmsAbvGrd   1168.0      6.553082     1.641030  ...     6.0      7.00      14.0\n",
              "TotalBsmtSF    1168.0   1066.353596   449.318304  ...  1004.0   1311.75    6110.0\n",
              "WoodDeckSF     1168.0     94.364726   123.585219  ...     0.0    168.00     857.0\n",
              "YearBuilt      1168.0   1971.179795    30.936320  ...  1973.0   2001.00    2010.0\n",
              "YearRemodAdd   1168.0   1985.088185    20.816905  ...  1994.0   2004.00    2010.0\n",
              "YrSold         1168.0   2007.819349     1.318539  ...  2008.0   2009.00    2010.0\n",
              "\n",
              "[51 rows x 8 columns]"
            ]
          },
          "metadata": {
            "tags": []
          },
          "execution_count": 91
        }
      ]
    },
    {
      "cell_type": "markdown",
      "metadata": {
        "id": "B4o12waiKNKY",
        "colab_type": "text"
      },
      "source": [
        "### Separar las caracteristicas de el valor objetivo.\n",
        "\n",
        "Se separa el valor objetivo, el cual será el valor que entrenara el modelo para predecir."
      ]
    },
    {
      "cell_type": "code",
      "metadata": {
        "id": "6PTXbuVBKQjC",
        "colab_type": "code",
        "outputId": "517ca4b6-5451-472e-c765-fa916802e0c1",
        "colab": {
          "base_uri": "https://localhost:8080/",
          "height": 207
        }
      },
      "source": [
        "train_labels = train_dataset.pop('SalePrice')\n",
        "val_labels = val_dataset.pop('SalePrice')\n",
        "val_dataset.tail()"
      ],
      "execution_count": 0,
      "outputs": [
        {
          "output_type": "error",
          "ename": "NameError",
          "evalue": "ignored",
          "traceback": [
            "\u001b[0;31m---------------------------------------------------------------------------\u001b[0m",
            "\u001b[0;31mNameError\u001b[0m                                 Traceback (most recent call last)",
            "\u001b[0;32m<ipython-input-4-f48c0e40df7c>\u001b[0m in \u001b[0;36m<module>\u001b[0;34m()\u001b[0m\n\u001b[0;32m----> 1\u001b[0;31m \u001b[0mtrain_labels\u001b[0m \u001b[0;34m=\u001b[0m \u001b[0mtrain_dataset\u001b[0m\u001b[0;34m.\u001b[0m\u001b[0mpop\u001b[0m\u001b[0;34m(\u001b[0m\u001b[0;34m'SalePrice'\u001b[0m\u001b[0;34m)\u001b[0m\u001b[0;34m\u001b[0m\u001b[0;34m\u001b[0m\u001b[0m\n\u001b[0m\u001b[1;32m      2\u001b[0m \u001b[0mval_labels\u001b[0m \u001b[0;34m=\u001b[0m \u001b[0mval_dataset\u001b[0m\u001b[0;34m.\u001b[0m\u001b[0mpop\u001b[0m\u001b[0;34m(\u001b[0m\u001b[0;34m'SalePrice'\u001b[0m\u001b[0;34m)\u001b[0m\u001b[0;34m\u001b[0m\u001b[0;34m\u001b[0m\u001b[0m\n\u001b[1;32m      3\u001b[0m \u001b[0mval_dataset\u001b[0m\u001b[0;34m.\u001b[0m\u001b[0mtail\u001b[0m\u001b[0;34m(\u001b[0m\u001b[0;34m)\u001b[0m\u001b[0;34m\u001b[0m\u001b[0;34m\u001b[0m\u001b[0m\n",
            "\u001b[0;31mNameError\u001b[0m: name 'train_dataset' is not defined"
          ]
        }
      ]
    },
    {
      "cell_type": "markdown",
      "metadata": {
        "id": "UZXNi9XYKcp3",
        "colab_type": "text"
      },
      "source": [
        "### Normalizar los datos"
      ]
    },
    {
      "cell_type": "markdown",
      "metadata": {
        "id": "OuuYj2ZPKXzO",
        "colab_type": "text"
      },
      "source": [
        "Es una buena práctica normalizar funciones que utilizan diferentes escalas y rangos. Aunque el modelo * podría * converger sin normalización de características, dificulta el entrenamiento y hace que el modelo resultante dependa de la elección de las unidades utilizadas en la entrada.\n"
      ]
    },
    {
      "cell_type": "code",
      "metadata": {
        "id": "ql_8oojHKUAC",
        "colab_type": "code",
        "outputId": "113d37d7-44b2-4297-82ad-a97569f9be17",
        "colab": {
          "base_uri": "https://localhost:8080/",
          "height": 226
        }
      },
      "source": [
        "def norm(x):\n",
        "  return (x - train_stats['mean']) / train_stats['std']\n",
        "normed_train_data = norm(train_dataset)\n",
        "normed_val_data = norm(val_dataset)\n",
        "normed_train_data.head()"
      ],
      "execution_count": 0,
      "outputs": [
        {
          "output_type": "execute_result",
          "data": {
            "text/html": [
              "<div>\n",
              "<style scoped>\n",
              "    .dataframe tbody tr th:only-of-type {\n",
              "        vertical-align: middle;\n",
              "    }\n",
              "\n",
              "    .dataframe tbody tr th {\n",
              "        vertical-align: top;\n",
              "    }\n",
              "\n",
              "    .dataframe thead th {\n",
              "        text-align: right;\n",
              "    }\n",
              "</style>\n",
              "<table border=\"1\" class=\"dataframe\">\n",
              "  <thead>\n",
              "    <tr style=\"text-align: right;\">\n",
              "      <th></th>\n",
              "      <th>1stFlrSF</th>\n",
              "      <th>2ndFlrSF</th>\n",
              "      <th>3SsnPorch</th>\n",
              "      <th>BedroomAbvGr</th>\n",
              "      <th>BsmtCond</th>\n",
              "      <th>BsmtExposure</th>\n",
              "      <th>BsmtFinSF1</th>\n",
              "      <th>BsmtFinSF2</th>\n",
              "      <th>BsmtFinType1</th>\n",
              "      <th>BsmtFullBath</th>\n",
              "      <th>BsmtHalfBath</th>\n",
              "      <th>BsmtQual</th>\n",
              "      <th>BsmtUnfSF</th>\n",
              "      <th>EnclosedPorch</th>\n",
              "      <th>ExterCond</th>\n",
              "      <th>ExterQual</th>\n",
              "      <th>Fence</th>\n",
              "      <th>FireplaceQu</th>\n",
              "      <th>Fireplaces</th>\n",
              "      <th>FullBath</th>\n",
              "      <th>GarageArea</th>\n",
              "      <th>GarageCars</th>\n",
              "      <th>GarageQual</th>\n",
              "      <th>GarageYrBlt</th>\n",
              "      <th>GrLivArea</th>\n",
              "      <th>HalfBath</th>\n",
              "      <th>HeatingQC</th>\n",
              "      <th>KitchenAbvGr</th>\n",
              "      <th>KitchenQual</th>\n",
              "      <th>LandSlope</th>\n",
              "      <th>LotArea</th>\n",
              "      <th>LotConfig</th>\n",
              "      <th>LotFrontage</th>\n",
              "      <th>LotShape</th>\n",
              "      <th>LowQualFinSF</th>\n",
              "      <th>MSSubClass</th>\n",
              "      <th>MasVnrArea</th>\n",
              "      <th>MoSold</th>\n",
              "      <th>OpenPorchSF</th>\n",
              "      <th>OverallCond</th>\n",
              "      <th>OverallQual</th>\n",
              "      <th>PavedDrive</th>\n",
              "      <th>PoolArea</th>\n",
              "      <th>ScreenPorch</th>\n",
              "      <th>Street</th>\n",
              "      <th>TotRmsAbvGrd</th>\n",
              "      <th>TotalBsmtSF</th>\n",
              "      <th>WoodDeckSF</th>\n",
              "      <th>YearBuilt</th>\n",
              "      <th>YearRemodAdd</th>\n",
              "      <th>YrSold</th>\n",
              "    </tr>\n",
              "  </thead>\n",
              "  <tbody>\n",
              "    <tr>\n",
              "      <th>529</th>\n",
              "      <td>3.420555</td>\n",
              "      <td>-0.803896</td>\n",
              "      <td>-0.124092</td>\n",
              "      <td>1.3809</td>\n",
              "      <td>0.090212</td>\n",
              "      <td>-0.587781</td>\n",
              "      <td>1.657989</td>\n",
              "      <td>-0.281321</td>\n",
              "      <td>-0.498782</td>\n",
              "      <td>1.091911</td>\n",
              "      <td>-0.240786</td>\n",
              "      <td>-0.619141</td>\n",
              "      <td>0.538761</td>\n",
              "      <td>2.873247</td>\n",
              "      <td>-0.240058</td>\n",
              "      <td>1.017920</td>\n",
              "      <td>-0.470639</td>\n",
              "      <td>0.569905</td>\n",
              "      <td>2.134379</td>\n",
              "      <td>2.569453</td>\n",
              "      <td>0.030869</td>\n",
              "      <td>0.281892</td>\n",
              "      <td>0.257523</td>\n",
              "      <td>0.237757</td>\n",
              "      <td>1.844937</td>\n",
              "      <td>-0.771454</td>\n",
              "      <td>-1.191945</td>\n",
              "      <td>4.413143</td>\n",
              "      <td>-0.785853</td>\n",
              "      <td>0.227421</td>\n",
              "      <td>2.232723</td>\n",
              "      <td>-2.004260</td>\n",
              "      <td>-1.680656</td>\n",
              "      <td>-0.996085</td>\n",
              "      <td>-0.130482</td>\n",
              "      <td>-0.893461</td>\n",
              "      <td>-0.594513</td>\n",
              "      <td>-1.246116</td>\n",
              "      <td>-0.719942</td>\n",
              "      <td>-2.300425</td>\n",
              "      <td>-0.109175</td>\n",
              "      <td>0.28666</td>\n",
              "      <td>-0.071073</td>\n",
              "      <td>-0.263795</td>\n",
              "      <td>0.058596</td>\n",
              "      <td>1.491086</td>\n",
              "      <td>2.155813</td>\n",
              "      <td>-0.763560</td>\n",
              "      <td>-0.458354</td>\n",
              "      <td>-0.484615</td>\n",
              "      <td>-0.621407</td>\n",
              "    </tr>\n",
              "    <tr>\n",
              "      <th>491</th>\n",
              "      <td>-0.534546</td>\n",
              "      <td>0.598981</td>\n",
              "      <td>-0.124092</td>\n",
              "      <td>0.1682</td>\n",
              "      <td>0.090212</td>\n",
              "      <td>-0.587781</td>\n",
              "      <td>-0.087485</td>\n",
              "      <td>0.716823</td>\n",
              "      <td>0.072652</td>\n",
              "      <td>1.091911</td>\n",
              "      <td>-0.240786</td>\n",
              "      <td>-0.619141</td>\n",
              "      <td>-0.758487</td>\n",
              "      <td>0.146757</td>\n",
              "      <td>-0.240058</td>\n",
              "      <td>-0.702674</td>\n",
              "      <td>2.029651</td>\n",
              "      <td>0.569905</td>\n",
              "      <td>2.134379</td>\n",
              "      <td>-1.018259</td>\n",
              "      <td>-1.083701</td>\n",
              "      <td>-1.024655</td>\n",
              "      <td>0.257523</td>\n",
              "      <td>0.164003</td>\n",
              "      <td>0.088765</td>\n",
              "      <td>-0.771454</td>\n",
              "      <td>-1.191945</td>\n",
              "      <td>-0.218080</td>\n",
              "      <td>-2.290568</td>\n",
              "      <td>0.227421</td>\n",
              "      <td>-0.106944</td>\n",
              "      <td>0.525157</td>\n",
              "      <td>0.613051</td>\n",
              "      <td>0.697405</td>\n",
              "      <td>-0.130482</td>\n",
              "      <td>-0.180077</td>\n",
              "      <td>-0.594513</td>\n",
              "      <td>0.604677</td>\n",
              "      <td>-0.719942</td>\n",
              "      <td>1.257200</td>\n",
              "      <td>-0.109175</td>\n",
              "      <td>0.28666</td>\n",
              "      <td>-0.071073</td>\n",
              "      <td>-0.263795</td>\n",
              "      <td>0.058596</td>\n",
              "      <td>-0.946407</td>\n",
              "      <td>-0.579441</td>\n",
              "      <td>-0.763560</td>\n",
              "      <td>-0.975546</td>\n",
              "      <td>-1.685562</td>\n",
              "      <td>-1.379822</td>\n",
              "    </tr>\n",
              "    <tr>\n",
              "      <th>459</th>\n",
              "      <td>-0.481202</td>\n",
              "      <td>-0.297050</td>\n",
              "      <td>-0.124092</td>\n",
              "      <td>0.1682</td>\n",
              "      <td>0.090212</td>\n",
              "      <td>-0.587781</td>\n",
              "      <td>-0.553801</td>\n",
              "      <td>-0.281321</td>\n",
              "      <td>-1.355933</td>\n",
              "      <td>1.091911</td>\n",
              "      <td>-0.240786</td>\n",
              "      <td>-0.619141</td>\n",
              "      <td>-0.116596</td>\n",
              "      <td>3.652244</td>\n",
              "      <td>-0.240058</td>\n",
              "      <td>-0.702674</td>\n",
              "      <td>-0.470639</td>\n",
              "      <td>0.569905</td>\n",
              "      <td>0.585960</td>\n",
              "      <td>-1.018259</td>\n",
              "      <td>-0.572095</td>\n",
              "      <td>-1.024655</td>\n",
              "      <td>0.257523</td>\n",
              "      <td>0.183526</td>\n",
              "      <td>-0.614078</td>\n",
              "      <td>-0.771454</td>\n",
              "      <td>-1.191945</td>\n",
              "      <td>-0.218080</td>\n",
              "      <td>0.718862</td>\n",
              "      <td>0.227421</td>\n",
              "      <td>-0.356779</td>\n",
              "      <td>-0.739551</td>\n",
              "      <td>-1.680656</td>\n",
              "      <td>-0.996085</td>\n",
              "      <td>-0.130482</td>\n",
              "      <td>-0.180077</td>\n",
              "      <td>0.310374</td>\n",
              "      <td>0.234518</td>\n",
              "      <td>-0.719942</td>\n",
              "      <td>-1.411019</td>\n",
              "      <td>-0.821556</td>\n",
              "      <td>0.28666</td>\n",
              "      <td>-0.071073</td>\n",
              "      <td>-0.263795</td>\n",
              "      <td>0.058596</td>\n",
              "      <td>-0.946407</td>\n",
              "      <td>-0.795324</td>\n",
              "      <td>-0.763560</td>\n",
              "      <td>-0.684626</td>\n",
              "      <td>-1.685562</td>\n",
              "      <td>0.895423</td>\n",
              "    </tr>\n",
              "    <tr>\n",
              "      <th>279</th>\n",
              "      <td>-0.031585</td>\n",
              "      <td>1.155607</td>\n",
              "      <td>-0.124092</td>\n",
              "      <td>1.3809</td>\n",
              "      <td>0.090212</td>\n",
              "      <td>-0.587781</td>\n",
              "      <td>-0.111015</td>\n",
              "      <td>-0.281321</td>\n",
              "      <td>0.072652</td>\n",
              "      <td>-0.823032</td>\n",
              "      <td>-0.240786</td>\n",
              "      <td>0.582116</td>\n",
              "      <td>0.431031</td>\n",
              "      <td>-0.372575</td>\n",
              "      <td>-0.240058</td>\n",
              "      <td>-0.702674</td>\n",
              "      <td>-0.470639</td>\n",
              "      <td>0.569905</td>\n",
              "      <td>0.585960</td>\n",
              "      <td>0.775597</td>\n",
              "      <td>0.126795</td>\n",
              "      <td>0.281892</td>\n",
              "      <td>0.257523</td>\n",
              "      <td>0.242095</td>\n",
              "      <td>0.920932</td>\n",
              "      <td>1.200227</td>\n",
              "      <td>0.882083</td>\n",
              "      <td>-0.218080</td>\n",
              "      <td>-0.785853</td>\n",
              "      <td>0.227421</td>\n",
              "      <td>-0.054958</td>\n",
              "      <td>0.525157</td>\n",
              "      <td>0.729188</td>\n",
              "      <td>0.697405</td>\n",
              "      <td>-0.130482</td>\n",
              "      <td>0.057718</td>\n",
              "      <td>1.085992</td>\n",
              "      <td>-1.246116</td>\n",
              "      <td>1.071275</td>\n",
              "      <td>-0.521612</td>\n",
              "      <td>0.603206</td>\n",
              "      <td>0.28666</td>\n",
              "      <td>-0.071073</td>\n",
              "      <td>-0.263795</td>\n",
              "      <td>0.058596</td>\n",
              "      <td>0.881713</td>\n",
              "      <td>0.208419</td>\n",
              "      <td>1.566816</td>\n",
              "      <td>0.188135</td>\n",
              "      <td>-0.388539</td>\n",
              "      <td>0.137008</td>\n",
              "    </tr>\n",
              "    <tr>\n",
              "      <th>655</th>\n",
              "      <td>-1.634455</td>\n",
              "      <td>0.479058</td>\n",
              "      <td>-0.124092</td>\n",
              "      <td>0.1682</td>\n",
              "      <td>0.090212</td>\n",
              "      <td>-0.587781</td>\n",
              "      <td>-0.949527</td>\n",
              "      <td>-0.281321</td>\n",
              "      <td>-1.070216</td>\n",
              "      <td>-0.823032</td>\n",
              "      <td>-0.240786</td>\n",
              "      <td>-0.619141</td>\n",
              "      <td>-0.114352</td>\n",
              "      <td>-0.372575</td>\n",
              "      <td>-0.240058</td>\n",
              "      <td>-0.702674</td>\n",
              "      <td>-0.470639</td>\n",
              "      <td>-1.013466</td>\n",
              "      <td>-0.962459</td>\n",
              "      <td>-1.018259</td>\n",
              "      <td>-0.974071</td>\n",
              "      <td>-1.024655</td>\n",
              "      <td>0.257523</td>\n",
              "      <td>0.229080</td>\n",
              "      <td>-0.822120</td>\n",
              "      <td>1.200227</td>\n",
              "      <td>-1.191945</td>\n",
              "      <td>-0.218080</td>\n",
              "      <td>-0.785853</td>\n",
              "      <td>0.227421</td>\n",
              "      <td>-0.895312</td>\n",
              "      <td>0.525157</td>\n",
              "      <td>-1.070937</td>\n",
              "      <td>0.697405</td>\n",
              "      <td>-0.130482</td>\n",
              "      <td>2.435666</td>\n",
              "      <td>1.546866</td>\n",
              "      <td>-1.246116</td>\n",
              "      <td>-0.719942</td>\n",
              "      <td>-0.521612</td>\n",
              "      <td>-0.109175</td>\n",
              "      <td>0.28666</td>\n",
              "      <td>-0.071073</td>\n",
              "      <td>-0.263795</td>\n",
              "      <td>0.058596</td>\n",
              "      <td>-0.337033</td>\n",
              "      <td>-1.204833</td>\n",
              "      <td>-0.763560</td>\n",
              "      <td>-0.005812</td>\n",
              "      <td>-0.676767</td>\n",
              "      <td>1.653838</td>\n",
              "    </tr>\n",
              "  </tbody>\n",
              "</table>\n",
              "</div>"
            ],
            "text/plain": [
              "     1stFlrSF  2ndFlrSF  3SsnPorch  ...  YearBuilt  YearRemodAdd    YrSold\n",
              "529  3.420555 -0.803896  -0.124092  ...  -0.458354     -0.484615 -0.621407\n",
              "491 -0.534546  0.598981  -0.124092  ...  -0.975546     -1.685562 -1.379822\n",
              "459 -0.481202 -0.297050  -0.124092  ...  -0.684626     -1.685562  0.895423\n",
              "279 -0.031585  1.155607  -0.124092  ...   0.188135     -0.388539  0.137008\n",
              "655 -1.634455  0.479058  -0.124092  ...  -0.005812     -0.676767  1.653838\n",
              "\n",
              "[5 rows x 51 columns]"
            ]
          },
          "metadata": {
            "tags": []
          },
          "execution_count": 93
        }
      ]
    },
    {
      "cell_type": "markdown",
      "metadata": {
        "id": "yP8txnv6Kl3D",
        "colab_type": "text"
      },
      "source": [
        "Estos datos normalizados es lo que usaremos para entrenar el modelo."
      ]
    },
    {
      "cell_type": "markdown",
      "metadata": {
        "id": "DBY5GEbaKpsO",
        "colab_type": "text"
      },
      "source": [
        "### El modelo"
      ]
    },
    {
      "cell_type": "markdown",
      "metadata": {
        "id": "9nV89dOiKur1",
        "colab_type": "text"
      },
      "source": [
        "### Construcción del modelo\n",
        "\n",
        "Se utilizará un modelo `secuencial` con dos capas ocultas densamente conectadas y una capa de salida que devuelve un único valor continuo.."
      ]
    },
    {
      "cell_type": "code",
      "metadata": {
        "id": "G1TyMalKKsCm",
        "colab_type": "code",
        "colab": {}
      },
      "source": [
        "def build_model():\n",
        "  model = keras.Sequential([\n",
        "    layers.Dense(100, activation='relu', input_shape=[len(train_dataset.keys())]),\n",
        "    layers.Dense(50, activation='relu'),\n",
        "    layers.Dense(1, activation='relu')\n",
        "  ])\n",
        "\n",
        "  optimizer = tf.keras.optimizers.RMSprop(0.001)\n",
        "\n",
        "  model.compile(loss='mse',\n",
        "                optimizer=optimizer,\n",
        "                metrics=['mae', 'mse', tf.keras.metrics.RootMeanSquaredError(name='rmse')])\n",
        "  return model\n",
        "\n",
        "model = build_model()"
      ],
      "execution_count": 0,
      "outputs": []
    },
    {
      "cell_type": "markdown",
      "metadata": {
        "id": "r5Xm4AhiKzRR",
        "colab_type": "text"
      },
      "source": [
        "### Inspección del modelo\n",
        "\n",
        "Use el método `.summary` para imprimir una descripción simple del modelo"
      ]
    },
    {
      "cell_type": "code",
      "metadata": {
        "id": "0muqNkhfK5n9",
        "colab_type": "code",
        "outputId": "8890c033-3c3d-444b-fd8d-9a47b3e4f3e3",
        "colab": {
          "base_uri": "https://localhost:8080/",
          "height": 260
        }
      },
      "source": [
        "model.summary()"
      ],
      "execution_count": 0,
      "outputs": [
        {
          "output_type": "stream",
          "text": [
            "Model: \"sequential_4\"\n",
            "_________________________________________________________________\n",
            "Layer (type)                 Output Shape              Param #   \n",
            "=================================================================\n",
            "dense_12 (Dense)             (None, 100)               5200      \n",
            "_________________________________________________________________\n",
            "dense_13 (Dense)             (None, 50)                5050      \n",
            "_________________________________________________________________\n",
            "dense_14 (Dense)             (None, 1)                 51        \n",
            "=================================================================\n",
            "Total params: 10,301\n",
            "Trainable params: 10,301\n",
            "Non-trainable params: 0\n",
            "_________________________________________________________________\n"
          ],
          "name": "stdout"
        }
      ]
    },
    {
      "cell_type": "markdown",
      "metadata": {
        "id": "oE9bCZcPK9EQ",
        "colab_type": "text"
      },
      "source": [
        "### Entrenamiento del modelo\n",
        "\n",
        "Se entrena  el modelo durante 2000 épocas y registre la precisión de entrenamiento y validación en el objeto `history`."
      ]
    },
    {
      "cell_type": "code",
      "metadata": {
        "id": "wSsKhyXeK_oV",
        "colab_type": "code",
        "outputId": "e301141d-8ded-4de2-b7a1-4d48bf2f00b0",
        "colab": {
          "base_uri": "https://localhost:8080/",
          "height": 399
        }
      },
      "source": [
        "# Display training progress by printing a single dot for each completed epoch\n",
        "EPOCHS = 2000\n",
        "class printdot(keras.callbacks.Callback):\n",
        "  def on_epoch_end(self, epoch, logs):\n",
        "    if epoch % 100 == 0: print('')\n",
        "    print('.', end='')\n",
        "\n",
        "history = model.fit(\n",
        "  normed_train_data, train_labels,\n",
        "  epochs=EPOCHS, validation_split = 0.2, verbose=0,\n",
        "  callbacks = [printdot()]\n",
        ")"
      ],
      "execution_count": 0,
      "outputs": [
        {
          "output_type": "stream",
          "text": [
            "WARNING:tensorflow:Falling back from v2 loop because of error: Failed to find data adapter that can handle input: <class 'pandas.core.frame.DataFrame'>, <class 'NoneType'>\n",
            "\n",
            "....................................................................................................\n",
            "....................................................................................................\n",
            "....................................................................................................\n",
            "....................................................................................................\n",
            "....................................................................................................\n",
            "....................................................................................................\n",
            "....................................................................................................\n",
            "....................................................................................................\n",
            "....................................................................................................\n",
            "....................................................................................................\n",
            "....................................................................................................\n",
            "....................................................................................................\n",
            "....................................................................................................\n",
            "....................................................................................................\n",
            "....................................................................................................\n",
            "....................................................................................................\n",
            "....................................................................................................\n",
            "....................................................................................................\n",
            "....................................................................................................\n",
            "...................................................................................................."
          ],
          "name": "stdout"
        }
      ]
    },
    {
      "cell_type": "markdown",
      "metadata": {
        "id": "OgnXyyaTLrsD",
        "colab_type": "text"
      },
      "source": [
        "Se puede visualizar el progreso de entrenamiento del modelo usando las estadísticas almacenadas en el objeto `history`."
      ]
    },
    {
      "cell_type": "code",
      "metadata": {
        "id": "URxaVKDkLsfp",
        "colab_type": "code",
        "outputId": "3f286edd-f871-4d09-dba7-6de6ec981c47",
        "colab": {
          "base_uri": "https://localhost:8080/",
          "height": 206
        }
      },
      "source": [
        "hist = pd.DataFrame(history.history)\n",
        "hist['epoch'] = history.epoch\n",
        "hist.tail()"
      ],
      "execution_count": 0,
      "outputs": [
        {
          "output_type": "execute_result",
          "data": {
            "text/html": [
              "<div>\n",
              "<style scoped>\n",
              "    .dataframe tbody tr th:only-of-type {\n",
              "        vertical-align: middle;\n",
              "    }\n",
              "\n",
              "    .dataframe tbody tr th {\n",
              "        vertical-align: top;\n",
              "    }\n",
              "\n",
              "    .dataframe thead th {\n",
              "        text-align: right;\n",
              "    }\n",
              "</style>\n",
              "<table border=\"1\" class=\"dataframe\">\n",
              "  <thead>\n",
              "    <tr style=\"text-align: right;\">\n",
              "      <th></th>\n",
              "      <th>loss</th>\n",
              "      <th>mae</th>\n",
              "      <th>mse</th>\n",
              "      <th>rmse</th>\n",
              "      <th>val_loss</th>\n",
              "      <th>val_mae</th>\n",
              "      <th>val_mse</th>\n",
              "      <th>val_rmse</th>\n",
              "      <th>epoch</th>\n",
              "    </tr>\n",
              "  </thead>\n",
              "  <tbody>\n",
              "    <tr>\n",
              "      <th>1995</th>\n",
              "      <td>4.388224e+08</td>\n",
              "      <td>11323.823242</td>\n",
              "      <td>438822400.0</td>\n",
              "      <td>20948.087891</td>\n",
              "      <td>8.970044e+08</td>\n",
              "      <td>19730.613281</td>\n",
              "      <td>897004352.0</td>\n",
              "      <td>29950.031250</td>\n",
              "      <td>1995</td>\n",
              "    </tr>\n",
              "    <tr>\n",
              "      <th>1996</th>\n",
              "      <td>4.377237e+08</td>\n",
              "      <td>11267.424805</td>\n",
              "      <td>437723680.0</td>\n",
              "      <td>20921.847656</td>\n",
              "      <td>8.906430e+08</td>\n",
              "      <td>19736.695312</td>\n",
              "      <td>890643072.0</td>\n",
              "      <td>29843.644531</td>\n",
              "      <td>1996</td>\n",
              "    </tr>\n",
              "    <tr>\n",
              "      <th>1997</th>\n",
              "      <td>4.386237e+08</td>\n",
              "      <td>11299.214844</td>\n",
              "      <td>438623680.0</td>\n",
              "      <td>20943.343750</td>\n",
              "      <td>8.864101e+08</td>\n",
              "      <td>19754.931641</td>\n",
              "      <td>886410112.0</td>\n",
              "      <td>29772.640625</td>\n",
              "      <td>1997</td>\n",
              "    </tr>\n",
              "    <tr>\n",
              "      <th>1998</th>\n",
              "      <td>4.383016e+08</td>\n",
              "      <td>11299.137695</td>\n",
              "      <td>438301696.0</td>\n",
              "      <td>20935.656250</td>\n",
              "      <td>8.878888e+08</td>\n",
              "      <td>19738.482422</td>\n",
              "      <td>887888768.0</td>\n",
              "      <td>29797.462891</td>\n",
              "      <td>1998</td>\n",
              "    </tr>\n",
              "    <tr>\n",
              "      <th>1999</th>\n",
              "      <td>4.386348e+08</td>\n",
              "      <td>11266.069336</td>\n",
              "      <td>438634720.0</td>\n",
              "      <td>20943.607422</td>\n",
              "      <td>8.883172e+08</td>\n",
              "      <td>19734.203125</td>\n",
              "      <td>888317184.0</td>\n",
              "      <td>29804.650391</td>\n",
              "      <td>1999</td>\n",
              "    </tr>\n",
              "  </tbody>\n",
              "</table>\n",
              "</div>"
            ],
            "text/plain": [
              "              loss           mae          mse  ...      val_mse      val_rmse  epoch\n",
              "1995  4.388224e+08  11323.823242  438822400.0  ...  897004352.0  29950.031250   1995\n",
              "1996  4.377237e+08  11267.424805  437723680.0  ...  890643072.0  29843.644531   1996\n",
              "1997  4.386237e+08  11299.214844  438623680.0  ...  886410112.0  29772.640625   1997\n",
              "1998  4.383016e+08  11299.137695  438301696.0  ...  887888768.0  29797.462891   1998\n",
              "1999  4.386348e+08  11266.069336  438634720.0  ...  888317184.0  29804.650391   1999\n",
              "\n",
              "[5 rows x 9 columns]"
            ]
          },
          "metadata": {
            "tags": []
          },
          "execution_count": 97
        }
      ]
    },
    {
      "cell_type": "code",
      "metadata": {
        "id": "SwCeYLVuLxBR",
        "colab_type": "code",
        "outputId": "20ff2ce6-4826-40ba-d373-08faa9345823",
        "colab": {
          "base_uri": "https://localhost:8080/",
          "height": 556
        }
      },
      "source": [
        "def plot_history(history):\n",
        "  hist = pd.DataFrame(history.history)\n",
        "  hist['epoch'] = history.epoch\n",
        "\n",
        "  plt.figure()\n",
        "  plt.xlabel('Epoca')\n",
        "  plt.ylabel('Mean Abs Error [$]')\n",
        "  plt.plot(hist['epoch'], hist['mae'],\n",
        "           label='Train Error')\n",
        "  plt.plot(hist['epoch'], hist['val_mae'],\n",
        "           label = 'Val Error')\n",
        "  plt.ylim([0,100000])\n",
        "  plt.legend()\n",
        "\n",
        "  plt.figure()\n",
        "  plt.xlabel('Epoca')\n",
        "  plt.ylabel('Mean Square Error [$]')\n",
        "  plt.plot(hist['epoch'], hist['mse'],\n",
        "           label='Train Error')\n",
        "  plt.plot(hist['epoch'], hist['val_mse'],\n",
        "           label = 'Val Error')\n",
        "  plt.ylim([0,10000000000])\n",
        "  plt.legend()\n",
        "\n",
        "  \n",
        "\n",
        "\n",
        "plot_history(history)"
      ],
      "execution_count": 0,
      "outputs": [
        {
          "output_type": "display_data",
          "data": {
            "image/png": "[encoded data removed]",
            "text/plain": [
              "<Figure size 432x288 with 1 Axes>"
            ]
          },
          "metadata": {
            "tags": []
          }
        },
        {
          "output_type": "display_data",
          "data": {
            "image/png": "[encoded data removed]",
            "text/plain": [
              "<Figure size 432x288 with 1 Axes>"
            ]
          },
          "metadata": {
            "tags": []
          }
        }
      ]
    },
    {
      "cell_type": "markdown",
      "metadata": {
        "id": "Fe_OsF1xL1Je",
        "colab_type": "text"
      },
      "source": [
        "Este gráfico muestra poca mejora, o incluso degradación en el error de validación después de aproximadamente 1000 épocas. Actualicemos la llamada `model.fit` para detener automáticamente el entrenamiento cuando el puntaje de validación no mejore. Utilizaremos una * devolución de llamada de EarlyStopping * que pruebe una condición de entrenamiento para cada época. Si transcurre una cantidad determinada de épocas sin mostrar mejoría, entonces detiene automáticamente el entrenamiento.\n"
      ]
    },
    {
      "cell_type": "code",
      "metadata": {
        "id": "xkwJmEh3L5jN",
        "colab_type": "code",
        "outputId": "4e5422d9-a3eb-49e5-cbe4-77ceb90e641d",
        "colab": {
          "base_uri": "https://localhost:8080/",
          "height": 764
        }
      },
      "source": [
        "model = build_model()\n",
        "\n",
        "early_stop = keras.callbacks.EarlyStopping(monitor='val_loss', patience=50)\n",
        "\n",
        "history = model.fit(normed_train_data, train_labels, epochs=2000,validation_split = 0.2, verbose=0, callbacks=[early_stop , printdot()])\n",
        "\n",
        "plot_history(history)"
      ],
      "execution_count": 0,
      "outputs": [
        {
          "output_type": "stream",
          "text": [
            "WARNING:tensorflow:Falling back from v2 loop because of error: Failed to find data adapter that can handle input: <class 'pandas.core.frame.DataFrame'>, <class 'NoneType'>\n",
            "\n",
            "....................................................................................................\n",
            "....................................................................................................\n",
            "....................................................................................................\n",
            "....................................................................................................\n",
            "....................................................................................................\n",
            "....................................................................................................\n",
            "....................................................................................................\n",
            "....................................................................................................\n",
            "....................................................................................................\n",
            "."
          ],
          "name": "stdout"
        },
        {
          "output_type": "display_data",
          "data": {
            "image/png": "[encoded data removed]",
            "text/plain": [
              "<Figure size 432x288 with 1 Axes>"
            ]
          },
          "metadata": {
            "tags": []
          }
        },
        {
          "output_type": "display_data",
          "data": {
            "image/png": "[encoded data removed]",
            "text/plain": [
              "<Figure size 432x288 with 1 Axes>"
            ]
          },
          "metadata": {
            "tags": []
          }
        }
      ]
    },
    {
      "cell_type": "markdown",
      "metadata": {
        "id": "58BlILqXN7fU",
        "colab_type": "text"
      },
      "source": [
        "### Inspección de las predicciones\n",
        "\n",
        "Se grafican los valores predecidos para el conjunto de datos de validación contra el precio en el Dataset"
      ]
    },
    {
      "cell_type": "code",
      "metadata": {
        "id": "aBXend-CN8g_",
        "colab_type": "code",
        "outputId": "74de011e-1abf-4f71-de26-ce1acdcd75bb",
        "colab": {
          "base_uri": "https://localhost:8080/",
          "height": 296
        }
      },
      "source": [
        "val_predictions = model.predict(normed_val_data).flatten()\n",
        "\n",
        "plt.scatter(val_labels, val_predictions)\n",
        "plt.xlabel('Dataset [$]')\n",
        "plt.ylabel('Predicción [$]')\n",
        "plt.axis('equal')\n",
        "plt.axis('square')\n",
        "plt.xlim([0,plt.xlim()[1]])\n",
        "plt.ylim([0,plt.ylim()[1]])\n",
        "_ = plt.plot([0, 600000], [0, 600000])"
      ],
      "execution_count": 0,
      "outputs": [
        {
          "output_type": "stream",
          "text": [
            "WARNING:tensorflow:Falling back from v2 loop because of error: Failed to find data adapter that can handle input: <class 'pandas.core.frame.DataFrame'>, <class 'NoneType'>\n"
          ],
          "name": "stdout"
        },
        {
          "output_type": "display_data",
          "data": {
            "image/png": "[encoded data removed]",
            "text/plain": [
              "<Figure size 432x288 with 1 Axes>"
            ]
          },
          "metadata": {
            "tags": []
          }
        }
      ]
    },
    {
      "cell_type": "markdown",
      "metadata": {
        "id": "d1f4eGMMODgw",
        "colab_type": "text"
      },
      "source": [
        "Se puede observar la distribución de errores."
      ]
    },
    {
      "cell_type": "code",
      "metadata": {
        "id": "jb03jN3eOHIU",
        "colab_type": "code",
        "outputId": "7719b133-dceb-4e82-ccbf-f3504f1a28fc",
        "colab": {
          "base_uri": "https://localhost:8080/",
          "height": 280
        }
      },
      "source": [
        "error = val_predictions - val_labels\n",
        "plt.hist(error, bins = 25)\n",
        "plt.xlabel(\"Error de predicción [$]\")\n",
        "_ = plt.ylabel(\"Count\")"
      ],
      "execution_count": 0,
      "outputs": [
        {
          "output_type": "display_data",
          "data": {
            "image/png": "[encoded data removed]",
            "text/plain": [
              "<Figure size 432x288 with 1 Axes>"
            ]
          },
          "metadata": {
            "tags": []
          }
        }
      ]
    },
    {
      "cell_type": "markdown",
      "metadata": {
        "id": "qIgqbjGqOLXj",
        "colab_type": "text"
      },
      "source": [
        "## Reentrenamiento con todos los datos"
      ]
    },
    {
      "cell_type": "markdown",
      "metadata": {
        "id": "RakcC8H2ON8S",
        "colab_type": "text"
      },
      "source": [
        "Para obtener un mejor modelo, se reentrena la red neuronal con la totalidad de las instancias contenidas en el archivo train, conservando la arquitectura de la red neuronal y el número de épocas."
      ]
    },
    {
      "cell_type": "code",
      "metadata": {
        "id": "LmzWOr7lOQ4P",
        "colab_type": "code",
        "outputId": "2838196f-b9ca-4181-e917-00a8a6dfb20c",
        "colab": {
          "base_uri": "https://localhost:8080/",
          "height": 712
        }
      },
      "source": [
        "todo_labels = dataset.pop('SalePrice')\n"
      ],
      "execution_count": 0,
      "outputs": [
        {
          "output_type": "error",
          "ename": "KeyError",
          "evalue": "ignored",
          "traceback": [
            "\u001b[0;31m---------------------------------------------------------------------------\u001b[0m",
            "\u001b[0;31mKeyError\u001b[0m                                  Traceback (most recent call last)",
            "\u001b[0;32m/usr/local/lib/python3.6/dist-packages/pandas/core/indexes/base.py\u001b[0m in \u001b[0;36mget_loc\u001b[0;34m(self, key, method, tolerance)\u001b[0m\n\u001b[1;32m   2896\u001b[0m             \u001b[0;32mtry\u001b[0m\u001b[0;34m:\u001b[0m\u001b[0;34m\u001b[0m\u001b[0;34m\u001b[0m\u001b[0m\n\u001b[0;32m-> 2897\u001b[0;31m                 \u001b[0;32mreturn\u001b[0m \u001b[0mself\u001b[0m\u001b[0;34m.\u001b[0m\u001b[0m_engine\u001b[0m\u001b[0;34m.\u001b[0m\u001b[0mget_loc\u001b[0m\u001b[0;34m(\u001b[0m\u001b[0mkey\u001b[0m\u001b[0;34m)\u001b[0m\u001b[0;34m\u001b[0m\u001b[0;34m\u001b[0m\u001b[0m\n\u001b[0m\u001b[1;32m   2898\u001b[0m             \u001b[0;32mexcept\u001b[0m \u001b[0mKeyError\u001b[0m\u001b[0;34m:\u001b[0m\u001b[0;34m\u001b[0m\u001b[0;34m\u001b[0m\u001b[0m\n",
            "\u001b[0;32mpandas/_libs/index.pyx\u001b[0m in \u001b[0;36mpandas._libs.index.IndexEngine.get_loc\u001b[0;34m()\u001b[0m\n",
            "\u001b[0;32mpandas/_libs/index.pyx\u001b[0m in \u001b[0;36mpandas._libs.index.IndexEngine.get_loc\u001b[0;34m()\u001b[0m\n",
            "\u001b[0;32mpandas/_libs/hashtable_class_helper.pxi\u001b[0m in \u001b[0;36mpandas._libs.hashtable.PyObjectHashTable.get_item\u001b[0;34m()\u001b[0m\n",
            "\u001b[0;32mpandas/_libs/hashtable_class_helper.pxi\u001b[0m in \u001b[0;36mpandas._libs.hashtable.PyObjectHashTable.get_item\u001b[0;34m()\u001b[0m\n",
            "\u001b[0;31mKeyError\u001b[0m: 'SalePrice'",
            "\nDuring handling of the above exception, another exception occurred:\n",
            "\u001b[0;31mKeyError\u001b[0m                                  Traceback (most recent call last)",
            "\u001b[0;32m<ipython-input-103-ee2581d6f2cb>\u001b[0m in \u001b[0;36m<module>\u001b[0;34m()\u001b[0m\n\u001b[0;32m----> 1\u001b[0;31m \u001b[0mtodo_labels\u001b[0m \u001b[0;34m=\u001b[0m \u001b[0mdataset\u001b[0m\u001b[0;34m.\u001b[0m\u001b[0mpop\u001b[0m\u001b[0;34m(\u001b[0m\u001b[0;34m'SalePrice'\u001b[0m\u001b[0;34m)\u001b[0m\u001b[0;34m\u001b[0m\u001b[0;34m\u001b[0m\u001b[0m\n\u001b[0m\u001b[1;32m      2\u001b[0m \u001b[0mnormed_data\u001b[0m \u001b[0;34m=\u001b[0m \u001b[0mnorm\u001b[0m\u001b[0;34m(\u001b[0m\u001b[0mdataset\u001b[0m\u001b[0;34m)\u001b[0m\u001b[0;34m\u001b[0m\u001b[0;34m\u001b[0m\u001b[0m\n\u001b[1;32m      3\u001b[0m \u001b[0mnormed_data\u001b[0m\u001b[0;34m.\u001b[0m\u001b[0mhead\u001b[0m\u001b[0;34m(\u001b[0m\u001b[0;34m)\u001b[0m\u001b[0;34m\u001b[0m\u001b[0;34m\u001b[0m\u001b[0m\n",
            "\u001b[0;32m/usr/local/lib/python3.6/dist-packages/pandas/core/generic.py\u001b[0m in \u001b[0;36mpop\u001b[0;34m(self, item)\u001b[0m\n\u001b[1;32m    860\u001b[0m         \u001b[0;36m3\u001b[0m  \u001b[0mmonkey\u001b[0m        \u001b[0mNaN\u001b[0m\u001b[0;34m\u001b[0m\u001b[0;34m\u001b[0m\u001b[0m\n\u001b[1;32m    861\u001b[0m         \"\"\"\n\u001b[0;32m--> 862\u001b[0;31m         \u001b[0mresult\u001b[0m \u001b[0;34m=\u001b[0m \u001b[0mself\u001b[0m\u001b[0;34m[\u001b[0m\u001b[0mitem\u001b[0m\u001b[0;34m]\u001b[0m\u001b[0;34m\u001b[0m\u001b[0;34m\u001b[0m\u001b[0m\n\u001b[0m\u001b[1;32m    863\u001b[0m         \u001b[0;32mdel\u001b[0m \u001b[0mself\u001b[0m\u001b[0;34m[\u001b[0m\u001b[0mitem\u001b[0m\u001b[0;34m]\u001b[0m\u001b[0;34m\u001b[0m\u001b[0;34m\u001b[0m\u001b[0m\n\u001b[1;32m    864\u001b[0m         \u001b[0;32mtry\u001b[0m\u001b[0;34m:\u001b[0m\u001b[0;34m\u001b[0m\u001b[0;34m\u001b[0m\u001b[0m\n",
            "\u001b[0;32m/usr/local/lib/python3.6/dist-packages/pandas/core/frame.py\u001b[0m in \u001b[0;36m__getitem__\u001b[0;34m(self, key)\u001b[0m\n\u001b[1;32m   2993\u001b[0m             \u001b[0;32mif\u001b[0m \u001b[0mself\u001b[0m\u001b[0;34m.\u001b[0m\u001b[0mcolumns\u001b[0m\u001b[0;34m.\u001b[0m\u001b[0mnlevels\u001b[0m \u001b[0;34m>\u001b[0m \u001b[0;36m1\u001b[0m\u001b[0;34m:\u001b[0m\u001b[0;34m\u001b[0m\u001b[0;34m\u001b[0m\u001b[0m\n\u001b[1;32m   2994\u001b[0m                 \u001b[0;32mreturn\u001b[0m \u001b[0mself\u001b[0m\u001b[0;34m.\u001b[0m\u001b[0m_getitem_multilevel\u001b[0m\u001b[0;34m(\u001b[0m\u001b[0mkey\u001b[0m\u001b[0;34m)\u001b[0m\u001b[0;34m\u001b[0m\u001b[0;34m\u001b[0m\u001b[0m\n\u001b[0;32m-> 2995\u001b[0;31m             \u001b[0mindexer\u001b[0m \u001b[0;34m=\u001b[0m \u001b[0mself\u001b[0m\u001b[0;34m.\u001b[0m\u001b[0mcolumns\u001b[0m\u001b[0;34m.\u001b[0m\u001b[0mget_loc\u001b[0m\u001b[0;34m(\u001b[0m\u001b[0mkey\u001b[0m\u001b[0;34m)\u001b[0m\u001b[0;34m\u001b[0m\u001b[0;34m\u001b[0m\u001b[0m\n\u001b[0m\u001b[1;32m   2996\u001b[0m             \u001b[0;32mif\u001b[0m \u001b[0mis_integer\u001b[0m\u001b[0;34m(\u001b[0m\u001b[0mindexer\u001b[0m\u001b[0;34m)\u001b[0m\u001b[0;34m:\u001b[0m\u001b[0;34m\u001b[0m\u001b[0;34m\u001b[0m\u001b[0m\n\u001b[1;32m   2997\u001b[0m                 \u001b[0mindexer\u001b[0m \u001b[0;34m=\u001b[0m \u001b[0;34m[\u001b[0m\u001b[0mindexer\u001b[0m\u001b[0;34m]\u001b[0m\u001b[0;34m\u001b[0m\u001b[0;34m\u001b[0m\u001b[0m\n",
            "\u001b[0;32m/usr/local/lib/python3.6/dist-packages/pandas/core/indexes/base.py\u001b[0m in \u001b[0;36mget_loc\u001b[0;34m(self, key, method, tolerance)\u001b[0m\n\u001b[1;32m   2897\u001b[0m                 \u001b[0;32mreturn\u001b[0m \u001b[0mself\u001b[0m\u001b[0;34m.\u001b[0m\u001b[0m_engine\u001b[0m\u001b[0;34m.\u001b[0m\u001b[0mget_loc\u001b[0m\u001b[0;34m(\u001b[0m\u001b[0mkey\u001b[0m\u001b[0;34m)\u001b[0m\u001b[0;34m\u001b[0m\u001b[0;34m\u001b[0m\u001b[0m\n\u001b[1;32m   2898\u001b[0m             \u001b[0;32mexcept\u001b[0m \u001b[0mKeyError\u001b[0m\u001b[0;34m:\u001b[0m\u001b[0;34m\u001b[0m\u001b[0;34m\u001b[0m\u001b[0m\n\u001b[0;32m-> 2899\u001b[0;31m                 \u001b[0;32mreturn\u001b[0m \u001b[0mself\u001b[0m\u001b[0;34m.\u001b[0m\u001b[0m_engine\u001b[0m\u001b[0;34m.\u001b[0m\u001b[0mget_loc\u001b[0m\u001b[0;34m(\u001b[0m\u001b[0mself\u001b[0m\u001b[0;34m.\u001b[0m\u001b[0m_maybe_cast_indexer\u001b[0m\u001b[0;34m(\u001b[0m\u001b[0mkey\u001b[0m\u001b[0;34m)\u001b[0m\u001b[0;34m)\u001b[0m\u001b[0;34m\u001b[0m\u001b[0;34m\u001b[0m\u001b[0m\n\u001b[0m\u001b[1;32m   2900\u001b[0m         \u001b[0mindexer\u001b[0m \u001b[0;34m=\u001b[0m \u001b[0mself\u001b[0m\u001b[0;34m.\u001b[0m\u001b[0mget_indexer\u001b[0m\u001b[0;34m(\u001b[0m\u001b[0;34m[\u001b[0m\u001b[0mkey\u001b[0m\u001b[0;34m]\u001b[0m\u001b[0;34m,\u001b[0m \u001b[0mmethod\u001b[0m\u001b[0;34m=\u001b[0m\u001b[0mmethod\u001b[0m\u001b[0;34m,\u001b[0m \u001b[0mtolerance\u001b[0m\u001b[0;34m=\u001b[0m\u001b[0mtolerance\u001b[0m\u001b[0;34m)\u001b[0m\u001b[0;34m\u001b[0m\u001b[0;34m\u001b[0m\u001b[0m\n\u001b[1;32m   2901\u001b[0m         \u001b[0;32mif\u001b[0m \u001b[0mindexer\u001b[0m\u001b[0;34m.\u001b[0m\u001b[0mndim\u001b[0m \u001b[0;34m>\u001b[0m \u001b[0;36m1\u001b[0m \u001b[0;32mor\u001b[0m \u001b[0mindexer\u001b[0m\u001b[0;34m.\u001b[0m\u001b[0msize\u001b[0m \u001b[0;34m>\u001b[0m \u001b[0;36m1\u001b[0m\u001b[0;34m:\u001b[0m\u001b[0;34m\u001b[0m\u001b[0;34m\u001b[0m\u001b[0m\n",
            "\u001b[0;32mpandas/_libs/index.pyx\u001b[0m in \u001b[0;36mpandas._libs.index.IndexEngine.get_loc\u001b[0;34m()\u001b[0m\n",
            "\u001b[0;32mpandas/_libs/index.pyx\u001b[0m in \u001b[0;36mpandas._libs.index.IndexEngine.get_loc\u001b[0;34m()\u001b[0m\n",
            "\u001b[0;32mpandas/_libs/hashtable_class_helper.pxi\u001b[0m in \u001b[0;36mpandas._libs.hashtable.PyObjectHashTable.get_item\u001b[0;34m()\u001b[0m\n",
            "\u001b[0;32mpandas/_libs/hashtable_class_helper.pxi\u001b[0m in \u001b[0;36mpandas._libs.hashtable.PyObjectHashTable.get_item\u001b[0;34m()\u001b[0m\n",
            "\u001b[0;31mKeyError\u001b[0m: 'SalePrice'"
          ]
        }
      ]
    },
    {
      "cell_type": "code",
      "metadata": {
        "id": "3cFvpXXKOXcM",
        "colab_type": "code",
        "outputId": "4e3b499a-df8d-40a1-e3ac-ec8ce6ddb7e1",
        "colab": {
          "base_uri": "https://localhost:8080/",
          "height": 226
        }
      },
      "source": [
        "normed_data = norm(dataset)\n",
        "normed_data.head()\n"
      ],
      "execution_count": 0,
      "outputs": [
        {
          "output_type": "execute_result",
          "data": {
            "text/html": [
              "<div>\n",
              "<style scoped>\n",
              "    .dataframe tbody tr th:only-of-type {\n",
              "        vertical-align: middle;\n",
              "    }\n",
              "\n",
              "    .dataframe tbody tr th {\n",
              "        vertical-align: top;\n",
              "    }\n",
              "\n",
              "    .dataframe thead th {\n",
              "        text-align: right;\n",
              "    }\n",
              "</style>\n",
              "<table border=\"1\" class=\"dataframe\">\n",
              "  <thead>\n",
              "    <tr style=\"text-align: right;\">\n",
              "      <th></th>\n",
              "      <th>1stFlrSF</th>\n",
              "      <th>2ndFlrSF</th>\n",
              "      <th>3SsnPorch</th>\n",
              "      <th>BedroomAbvGr</th>\n",
              "      <th>BsmtCond</th>\n",
              "      <th>BsmtExposure</th>\n",
              "      <th>BsmtFinSF1</th>\n",
              "      <th>BsmtFinSF2</th>\n",
              "      <th>BsmtFinType1</th>\n",
              "      <th>BsmtFullBath</th>\n",
              "      <th>BsmtHalfBath</th>\n",
              "      <th>BsmtQual</th>\n",
              "      <th>BsmtUnfSF</th>\n",
              "      <th>EnclosedPorch</th>\n",
              "      <th>ExterCond</th>\n",
              "      <th>ExterQual</th>\n",
              "      <th>Fence</th>\n",
              "      <th>FireplaceQu</th>\n",
              "      <th>Fireplaces</th>\n",
              "      <th>FullBath</th>\n",
              "      <th>GarageArea</th>\n",
              "      <th>GarageCars</th>\n",
              "      <th>GarageQual</th>\n",
              "      <th>GarageYrBlt</th>\n",
              "      <th>GrLivArea</th>\n",
              "      <th>HalfBath</th>\n",
              "      <th>HeatingQC</th>\n",
              "      <th>KitchenAbvGr</th>\n",
              "      <th>KitchenQual</th>\n",
              "      <th>LandSlope</th>\n",
              "      <th>LotArea</th>\n",
              "      <th>LotConfig</th>\n",
              "      <th>LotFrontage</th>\n",
              "      <th>LotShape</th>\n",
              "      <th>LowQualFinSF</th>\n",
              "      <th>MSSubClass</th>\n",
              "      <th>MasVnrArea</th>\n",
              "      <th>MoSold</th>\n",
              "      <th>OpenPorchSF</th>\n",
              "      <th>OverallCond</th>\n",
              "      <th>OverallQual</th>\n",
              "      <th>PavedDrive</th>\n",
              "      <th>PoolArea</th>\n",
              "      <th>ScreenPorch</th>\n",
              "      <th>Street</th>\n",
              "      <th>TotRmsAbvGrd</th>\n",
              "      <th>TotalBsmtSF</th>\n",
              "      <th>WoodDeckSF</th>\n",
              "      <th>YearBuilt</th>\n",
              "      <th>YearRemodAdd</th>\n",
              "      <th>YrSold</th>\n",
              "    </tr>\n",
              "  </thead>\n",
              "  <tbody>\n",
              "    <tr>\n",
              "      <th>0</th>\n",
              "      <td>-0.793647</td>\n",
              "      <td>1.128454</td>\n",
              "      <td>-0.124092</td>\n",
              "      <td>0.1682</td>\n",
              "      <td>0.090212</td>\n",
              "      <td>-0.587781</td>\n",
              "      <td>0.560650</td>\n",
              "      <td>-0.281321</td>\n",
              "      <td>1.215520</td>\n",
              "      <td>1.091911</td>\n",
              "      <td>-0.240786</td>\n",
              "      <td>0.582116</td>\n",
              "      <td>-0.955992</td>\n",
              "      <td>-0.372575</td>\n",
              "      <td>-0.240058</td>\n",
              "      <td>1.017920</td>\n",
              "      <td>-0.470639</td>\n",
              "      <td>-1.013466</td>\n",
              "      <td>-0.962459</td>\n",
              "      <td>0.775597</td>\n",
              "      <td>0.323215</td>\n",
              "      <td>0.281892</td>\n",
              "      <td>0.257523</td>\n",
              "      <td>0.298495</td>\n",
              "      <td>0.336166</td>\n",
              "      <td>1.200227</td>\n",
              "      <td>0.882083</td>\n",
              "      <td>-0.21808</td>\n",
              "      <td>0.718862</td>\n",
              "      <td>0.227421</td>\n",
              "      <td>-0.211925</td>\n",
              "      <td>0.525157</td>\n",
              "      <td>0.206571</td>\n",
              "      <td>0.697405</td>\n",
              "      <td>-0.130482</td>\n",
              "      <td>0.057718</td>\n",
              "      <td>0.507089</td>\n",
              "      <td>-1.616275</td>\n",
              "      <td>0.213940</td>\n",
              "      <td>-0.521612</td>\n",
              "      <td>0.603206</td>\n",
              "      <td>0.28666</td>\n",
              "      <td>-0.071073</td>\n",
              "      <td>-0.263795</td>\n",
              "      <td>0.058596</td>\n",
              "      <td>0.881713</td>\n",
              "      <td>-0.468162</td>\n",
              "      <td>-0.763560</td>\n",
              "      <td>1.028571</td>\n",
              "      <td>0.860446</td>\n",
              "      <td>0.137008</td>\n",
              "    </tr>\n",
              "    <tr>\n",
              "      <th>1</th>\n",
              "      <td>0.237677</td>\n",
              "      <td>-0.803896</td>\n",
              "      <td>-0.124092</td>\n",
              "      <td>0.1682</td>\n",
              "      <td>0.090212</td>\n",
              "      <td>2.527490</td>\n",
              "      <td>1.142475</td>\n",
              "      <td>-0.281321</td>\n",
              "      <td>0.644086</td>\n",
              "      <td>-0.823032</td>\n",
              "      <td>4.020390</td>\n",
              "      <td>0.582116</td>\n",
              "      <td>-0.655246</td>\n",
              "      <td>-0.372575</td>\n",
              "      <td>-0.240058</td>\n",
              "      <td>-0.702674</td>\n",
              "      <td>-0.470639</td>\n",
              "      <td>0.569905</td>\n",
              "      <td>0.585960</td>\n",
              "      <td>0.775597</td>\n",
              "      <td>-0.078761</td>\n",
              "      <td>0.281892</td>\n",
              "      <td>0.257523</td>\n",
              "      <td>0.239926</td>\n",
              "      <td>-0.503497</td>\n",
              "      <td>-0.771454</td>\n",
              "      <td>0.882083</td>\n",
              "      <td>-0.21808</td>\n",
              "      <td>-0.785853</td>\n",
              "      <td>0.227421</td>\n",
              "      <td>-0.095840</td>\n",
              "      <td>-3.268968</td>\n",
              "      <td>0.642085</td>\n",
              "      <td>0.697405</td>\n",
              "      <td>-0.130482</td>\n",
              "      <td>-0.893461</td>\n",
              "      <td>-0.594513</td>\n",
              "      <td>-0.505799</td>\n",
              "      <td>-0.719942</td>\n",
              "      <td>2.146607</td>\n",
              "      <td>-0.109175</td>\n",
              "      <td>0.28666</td>\n",
              "      <td>-0.071073</td>\n",
              "      <td>-0.263795</td>\n",
              "      <td>0.058596</td>\n",
              "      <td>-0.337033</td>\n",
              "      <td>0.435429</td>\n",
              "      <td>1.647732</td>\n",
              "      <td>0.155811</td>\n",
              "      <td>-0.436577</td>\n",
              "      <td>-0.621407</td>\n",
              "    </tr>\n",
              "    <tr>\n",
              "      <th>2</th>\n",
              "      <td>-0.631074</td>\n",
              "      <td>1.155607</td>\n",
              "      <td>-0.124092</td>\n",
              "      <td>0.1682</td>\n",
              "      <td>0.090212</td>\n",
              "      <td>0.191037</td>\n",
              "      <td>0.090057</td>\n",
              "      <td>-0.281321</td>\n",
              "      <td>1.215520</td>\n",
              "      <td>1.091911</td>\n",
              "      <td>-0.240786</td>\n",
              "      <td>0.582116</td>\n",
              "      <td>-0.318590</td>\n",
              "      <td>-0.372575</td>\n",
              "      <td>-0.240058</td>\n",
              "      <td>1.017920</td>\n",
              "      <td>-0.470639</td>\n",
              "      <td>0.569905</td>\n",
              "      <td>0.585960</td>\n",
              "      <td>0.775597</td>\n",
              "      <td>0.597289</td>\n",
              "      <td>0.281892</td>\n",
              "      <td>0.257523</td>\n",
              "      <td>0.294157</td>\n",
              "      <td>0.478609</td>\n",
              "      <td>1.200227</td>\n",
              "      <td>0.882083</td>\n",
              "      <td>-0.21808</td>\n",
              "      <td>0.718862</td>\n",
              "      <td>0.227421</td>\n",
              "      <td>0.070717</td>\n",
              "      <td>0.525157</td>\n",
              "      <td>0.293674</td>\n",
              "      <td>-0.996085</td>\n",
              "      <td>-0.130482</td>\n",
              "      <td>0.057718</td>\n",
              "      <td>0.315994</td>\n",
              "      <td>0.974836</td>\n",
              "      <td>-0.076941</td>\n",
              "      <td>-0.521612</td>\n",
              "      <td>0.603206</td>\n",
              "      <td>0.28666</td>\n",
              "      <td>-0.071073</td>\n",
              "      <td>-0.263795</td>\n",
              "      <td>0.058596</td>\n",
              "      <td>-0.337033</td>\n",
              "      <td>-0.325724</td>\n",
              "      <td>-0.763560</td>\n",
              "      <td>0.963922</td>\n",
              "      <td>0.812408</td>\n",
              "      <td>0.137008</td>\n",
              "    </tr>\n",
              "    <tr>\n",
              "      <th>3</th>\n",
              "      <td>-0.526925</td>\n",
              "      <td>0.906709</td>\n",
              "      <td>-0.124092</td>\n",
              "      <td>0.1682</td>\n",
              "      <td>2.176691</td>\n",
              "      <td>-0.587781</td>\n",
              "      <td>-0.487490</td>\n",
              "      <td>-0.281321</td>\n",
              "      <td>0.644086</td>\n",
              "      <td>1.091911</td>\n",
              "      <td>-0.240786</td>\n",
              "      <td>-0.619141</td>\n",
              "      <td>-0.080686</td>\n",
              "      <td>4.041743</td>\n",
              "      <td>-0.240058</td>\n",
              "      <td>-0.702674</td>\n",
              "      <td>-0.470639</td>\n",
              "      <td>1.203253</td>\n",
              "      <td>0.585960</td>\n",
              "      <td>-1.018259</td>\n",
              "      <td>0.752598</td>\n",
              "      <td>1.588438</td>\n",
              "      <td>0.257523</td>\n",
              "      <td>0.287649</td>\n",
              "      <td>0.349286</td>\n",
              "      <td>-0.771454</td>\n",
              "      <td>-0.154931</td>\n",
              "      <td>-0.21808</td>\n",
              "      <td>0.718862</td>\n",
              "      <td>0.227421</td>\n",
              "      <td>-0.100887</td>\n",
              "      <td>-0.739551</td>\n",
              "      <td>0.061400</td>\n",
              "      <td>-0.996085</td>\n",
              "      <td>-0.130482</td>\n",
              "      <td>0.295513</td>\n",
              "      <td>-0.594513</td>\n",
              "      <td>-1.616275</td>\n",
              "      <td>-0.184108</td>\n",
              "      <td>-0.521612</td>\n",
              "      <td>0.603206</td>\n",
              "      <td>0.28666</td>\n",
              "      <td>-0.071073</td>\n",
              "      <td>-0.263795</td>\n",
              "      <td>0.058596</td>\n",
              "      <td>0.272340</td>\n",
              "      <td>-0.690721</td>\n",
              "      <td>-0.763560</td>\n",
              "      <td>-1.815982</td>\n",
              "      <td>-0.724804</td>\n",
              "      <td>-1.379822</td>\n",
              "    </tr>\n",
              "    <tr>\n",
              "      <th>4</th>\n",
              "      <td>-0.059527</td>\n",
              "      <td>1.578732</td>\n",
              "      <td>-0.124092</td>\n",
              "      <td>1.3809</td>\n",
              "      <td>0.090212</td>\n",
              "      <td>0.969855</td>\n",
              "      <td>0.451558</td>\n",
              "      <td>-0.281321</td>\n",
              "      <td>1.215520</td>\n",
              "      <td>1.091911</td>\n",
              "      <td>-0.240786</td>\n",
              "      <td>0.582116</td>\n",
              "      <td>-0.192905</td>\n",
              "      <td>-0.372575</td>\n",
              "      <td>-0.240058</td>\n",
              "      <td>1.017920</td>\n",
              "      <td>-0.470639</td>\n",
              "      <td>0.569905</td>\n",
              "      <td>0.585960</td>\n",
              "      <td>0.775597</td>\n",
              "      <td>1.638772</td>\n",
              "      <td>1.588438</td>\n",
              "      <td>0.257523</td>\n",
              "      <td>0.291987</td>\n",
              "      <td>1.250800</td>\n",
              "      <td>1.200227</td>\n",
              "      <td>0.882083</td>\n",
              "      <td>-0.21808</td>\n",
              "      <td>0.718862</td>\n",
              "      <td>0.227421</td>\n",
              "      <td>0.374556</td>\n",
              "      <td>-3.268968</td>\n",
              "      <td>0.758222</td>\n",
              "      <td>-0.996085</td>\n",
              "      <td>-0.130482</td>\n",
              "      <td>0.057718</td>\n",
              "      <td>1.372633</td>\n",
              "      <td>2.085312</td>\n",
              "      <td>0.566060</td>\n",
              "      <td>-0.521612</td>\n",
              "      <td>1.315587</td>\n",
              "      <td>0.28666</td>\n",
              "      <td>-0.071073</td>\n",
              "      <td>-0.263795</td>\n",
              "      <td>0.058596</td>\n",
              "      <td>1.491086</td>\n",
              "      <td>0.175035</td>\n",
              "      <td>0.790024</td>\n",
              "      <td>0.931598</td>\n",
              "      <td>0.716332</td>\n",
              "      <td>0.137008</td>\n",
              "    </tr>\n",
              "  </tbody>\n",
              "</table>\n",
              "</div>"
            ],
            "text/plain": [
              "   1stFlrSF  2ndFlrSF  3SsnPorch  ...  YearBuilt  YearRemodAdd    YrSold\n",
              "0 -0.793647  1.128454  -0.124092  ...   1.028571      0.860446  0.137008\n",
              "1  0.237677 -0.803896  -0.124092  ...   0.155811     -0.436577 -0.621407\n",
              "2 -0.631074  1.155607  -0.124092  ...   0.963922      0.812408  0.137008\n",
              "3 -0.526925  0.906709  -0.124092  ...  -1.815982     -0.724804 -1.379822\n",
              "4 -0.059527  1.578732  -0.124092  ...   0.931598      0.716332  0.137008\n",
              "\n",
              "[5 rows x 51 columns]"
            ]
          },
          "metadata": {
            "tags": []
          },
          "execution_count": 104
        }
      ]
    },
    {
      "cell_type": "code",
      "metadata": {
        "id": "Ni8VsIBKObb4",
        "colab_type": "code",
        "outputId": "4271c03a-1999-4b5f-be20-45e73f489d55",
        "colab": {
          "base_uri": "https://localhost:8080/",
          "height": 243
        }
      },
      "source": [
        "model = build_model()\n",
        "\n",
        "\n",
        "history = model.fit(normed_data, todo_labels, epochs=1100,validation_split = 0, verbose=0, callbacks=[ printdot()])\n"
      ],
      "execution_count": 0,
      "outputs": [
        {
          "output_type": "stream",
          "text": [
            "WARNING:tensorflow:Falling back from v2 loop because of error: Failed to find data adapter that can handle input: <class 'pandas.core.frame.DataFrame'>, <class 'NoneType'>\n",
            "\n",
            "....................................................................................................\n",
            "....................................................................................................\n",
            "....................................................................................................\n",
            "....................................................................................................\n",
            "....................................................................................................\n",
            "....................................................................................................\n",
            "....................................................................................................\n",
            "....................................................................................................\n",
            "....................................................................................................\n",
            "....................................................................................................\n",
            "...................................................................................................."
          ],
          "name": "stdout"
        }
      ]
    },
    {
      "cell_type": "markdown",
      "metadata": {
        "id": "aVdFQBHjOZa2",
        "colab_type": "text"
      },
      "source": [
        "## Generar predicciones\n",
        "\n",
        "Se realizan las predicciones de los datos contenidos en el archivo de prueba con los siguientes resultados:"
      ]
    },
    {
      "cell_type": "code",
      "metadata": {
        "id": "VvPhlp3pOgu_",
        "colab_type": "code",
        "colab": {}
      },
      "source": [
        "dataset2 = test.iloc[:, 0:52]\n",
        "dataset2.head()\n",
        "a = dataset2.pop('SalePrice') \n"
      ],
      "execution_count": 0,
      "outputs": []
    },
    {
      "cell_type": "code",
      "metadata": {
        "id": "-a-THksEPA2-",
        "colab_type": "code",
        "outputId": "c5d211bb-8735-48d1-f948-1bb7d20541a4",
        "colab": {
          "base_uri": "https://localhost:8080/",
          "height": 226
        }
      },
      "source": [
        "dataset2 = dataset2.fillna(0)\n",
        "dataset2.head()"
      ],
      "execution_count": 0,
      "outputs": [
        {
          "output_type": "execute_result",
          "data": {
            "text/html": [
              "<div>\n",
              "<style scoped>\n",
              "    .dataframe tbody tr th:only-of-type {\n",
              "        vertical-align: middle;\n",
              "    }\n",
              "\n",
              "    .dataframe tbody tr th {\n",
              "        vertical-align: top;\n",
              "    }\n",
              "\n",
              "    .dataframe thead th {\n",
              "        text-align: right;\n",
              "    }\n",
              "</style>\n",
              "<table border=\"1\" class=\"dataframe\">\n",
              "  <thead>\n",
              "    <tr style=\"text-align: right;\">\n",
              "      <th></th>\n",
              "      <th>1stFlrSF</th>\n",
              "      <th>2ndFlrSF</th>\n",
              "      <th>3SsnPorch</th>\n",
              "      <th>BedroomAbvGr</th>\n",
              "      <th>BsmtCond</th>\n",
              "      <th>BsmtExposure</th>\n",
              "      <th>BsmtFinSF1</th>\n",
              "      <th>BsmtFinSF2</th>\n",
              "      <th>BsmtFinType1</th>\n",
              "      <th>BsmtFullBath</th>\n",
              "      <th>BsmtHalfBath</th>\n",
              "      <th>BsmtQual</th>\n",
              "      <th>BsmtUnfSF</th>\n",
              "      <th>EnclosedPorch</th>\n",
              "      <th>ExterCond</th>\n",
              "      <th>ExterQual</th>\n",
              "      <th>Fence</th>\n",
              "      <th>FireplaceQu</th>\n",
              "      <th>Fireplaces</th>\n",
              "      <th>FullBath</th>\n",
              "      <th>GarageArea</th>\n",
              "      <th>GarageCars</th>\n",
              "      <th>GarageQual</th>\n",
              "      <th>GarageYrBlt</th>\n",
              "      <th>GrLivArea</th>\n",
              "      <th>HalfBath</th>\n",
              "      <th>HeatingQC</th>\n",
              "      <th>KitchenAbvGr</th>\n",
              "      <th>KitchenQual</th>\n",
              "      <th>LandSlope</th>\n",
              "      <th>LotArea</th>\n",
              "      <th>LotConfig</th>\n",
              "      <th>LotFrontage</th>\n",
              "      <th>LotShape</th>\n",
              "      <th>LowQualFinSF</th>\n",
              "      <th>MSSubClass</th>\n",
              "      <th>MasVnrArea</th>\n",
              "      <th>MoSold</th>\n",
              "      <th>OpenPorchSF</th>\n",
              "      <th>OverallCond</th>\n",
              "      <th>OverallQual</th>\n",
              "      <th>PavedDrive</th>\n",
              "      <th>PoolArea</th>\n",
              "      <th>ScreenPorch</th>\n",
              "      <th>Street</th>\n",
              "      <th>TotRmsAbvGrd</th>\n",
              "      <th>TotalBsmtSF</th>\n",
              "      <th>WoodDeckSF</th>\n",
              "      <th>YearBuilt</th>\n",
              "      <th>YearRemodAdd</th>\n",
              "      <th>YrSold</th>\n",
              "    </tr>\n",
              "  </thead>\n",
              "  <tbody>\n",
              "    <tr>\n",
              "      <th>1460</th>\n",
              "      <td>896</td>\n",
              "      <td>0</td>\n",
              "      <td>0</td>\n",
              "      <td>2</td>\n",
              "      <td>5.0</td>\n",
              "      <td>1.0</td>\n",
              "      <td>468.0</td>\n",
              "      <td>144.0</td>\n",
              "      <td>3.0</td>\n",
              "      <td>0.0</td>\n",
              "      <td>0.0</td>\n",
              "      <td>5.0</td>\n",
              "      <td>270.0</td>\n",
              "      <td>0</td>\n",
              "      <td>5</td>\n",
              "      <td>5</td>\n",
              "      <td>7.0</td>\n",
              "      <td>0.0</td>\n",
              "      <td>0</td>\n",
              "      <td>1</td>\n",
              "      <td>730.0</td>\n",
              "      <td>1.0</td>\n",
              "      <td>5.0</td>\n",
              "      <td>1961.0</td>\n",
              "      <td>896</td>\n",
              "      <td>0</td>\n",
              "      <td>5</td>\n",
              "      <td>1</td>\n",
              "      <td>5.0</td>\n",
              "      <td>9</td>\n",
              "      <td>11622</td>\n",
              "      <td>9</td>\n",
              "      <td>80.0</td>\n",
              "      <td>9</td>\n",
              "      <td>0</td>\n",
              "      <td>20</td>\n",
              "      <td>0.0</td>\n",
              "      <td>6</td>\n",
              "      <td>0</td>\n",
              "      <td>6</td>\n",
              "      <td>5</td>\n",
              "      <td>9</td>\n",
              "      <td>0</td>\n",
              "      <td>120</td>\n",
              "      <td>5</td>\n",
              "      <td>5</td>\n",
              "      <td>882.0</td>\n",
              "      <td>140</td>\n",
              "      <td>1961</td>\n",
              "      <td>1961</td>\n",
              "      <td>2010</td>\n",
              "    </tr>\n",
              "    <tr>\n",
              "      <th>1461</th>\n",
              "      <td>1329</td>\n",
              "      <td>0</td>\n",
              "      <td>0</td>\n",
              "      <td>3</td>\n",
              "      <td>5.0</td>\n",
              "      <td>1.0</td>\n",
              "      <td>923.0</td>\n",
              "      <td>0.0</td>\n",
              "      <td>7.0</td>\n",
              "      <td>0.0</td>\n",
              "      <td>0.0</td>\n",
              "      <td>5.0</td>\n",
              "      <td>406.0</td>\n",
              "      <td>0</td>\n",
              "      <td>5</td>\n",
              "      <td>5</td>\n",
              "      <td>0.0</td>\n",
              "      <td>0.0</td>\n",
              "      <td>0</td>\n",
              "      <td>1</td>\n",
              "      <td>312.0</td>\n",
              "      <td>1.0</td>\n",
              "      <td>5.0</td>\n",
              "      <td>1958.0</td>\n",
              "      <td>1329</td>\n",
              "      <td>1</td>\n",
              "      <td>5</td>\n",
              "      <td>1</td>\n",
              "      <td>7.0</td>\n",
              "      <td>9</td>\n",
              "      <td>14267</td>\n",
              "      <td>7</td>\n",
              "      <td>81.0</td>\n",
              "      <td>7</td>\n",
              "      <td>0</td>\n",
              "      <td>20</td>\n",
              "      <td>108.0</td>\n",
              "      <td>6</td>\n",
              "      <td>36</td>\n",
              "      <td>6</td>\n",
              "      <td>6</td>\n",
              "      <td>9</td>\n",
              "      <td>0</td>\n",
              "      <td>0</td>\n",
              "      <td>5</td>\n",
              "      <td>6</td>\n",
              "      <td>1329.0</td>\n",
              "      <td>393</td>\n",
              "      <td>1958</td>\n",
              "      <td>1958</td>\n",
              "      <td>2010</td>\n",
              "    </tr>\n",
              "    <tr>\n",
              "      <th>1462</th>\n",
              "      <td>928</td>\n",
              "      <td>701</td>\n",
              "      <td>0</td>\n",
              "      <td>3</td>\n",
              "      <td>5.0</td>\n",
              "      <td>1.0</td>\n",
              "      <td>791.0</td>\n",
              "      <td>0.0</td>\n",
              "      <td>9.0</td>\n",
              "      <td>0.0</td>\n",
              "      <td>0.0</td>\n",
              "      <td>7.0</td>\n",
              "      <td>137.0</td>\n",
              "      <td>0</td>\n",
              "      <td>5</td>\n",
              "      <td>5</td>\n",
              "      <td>7.0</td>\n",
              "      <td>5.0</td>\n",
              "      <td>1</td>\n",
              "      <td>2</td>\n",
              "      <td>482.0</td>\n",
              "      <td>2.0</td>\n",
              "      <td>5.0</td>\n",
              "      <td>1997.0</td>\n",
              "      <td>1629</td>\n",
              "      <td>1</td>\n",
              "      <td>7</td>\n",
              "      <td>1</td>\n",
              "      <td>5.0</td>\n",
              "      <td>9</td>\n",
              "      <td>13830</td>\n",
              "      <td>9</td>\n",
              "      <td>74.0</td>\n",
              "      <td>7</td>\n",
              "      <td>0</td>\n",
              "      <td>60</td>\n",
              "      <td>0.0</td>\n",
              "      <td>3</td>\n",
              "      <td>34</td>\n",
              "      <td>5</td>\n",
              "      <td>5</td>\n",
              "      <td>9</td>\n",
              "      <td>0</td>\n",
              "      <td>0</td>\n",
              "      <td>5</td>\n",
              "      <td>6</td>\n",
              "      <td>928.0</td>\n",
              "      <td>212</td>\n",
              "      <td>1997</td>\n",
              "      <td>1998</td>\n",
              "      <td>2010</td>\n",
              "    </tr>\n",
              "    <tr>\n",
              "      <th>1463</th>\n",
              "      <td>926</td>\n",
              "      <td>678</td>\n",
              "      <td>0</td>\n",
              "      <td>3</td>\n",
              "      <td>5.0</td>\n",
              "      <td>1.0</td>\n",
              "      <td>602.0</td>\n",
              "      <td>0.0</td>\n",
              "      <td>9.0</td>\n",
              "      <td>0.0</td>\n",
              "      <td>0.0</td>\n",
              "      <td>5.0</td>\n",
              "      <td>324.0</td>\n",
              "      <td>0</td>\n",
              "      <td>5</td>\n",
              "      <td>5</td>\n",
              "      <td>0.0</td>\n",
              "      <td>7.0</td>\n",
              "      <td>1</td>\n",
              "      <td>2</td>\n",
              "      <td>470.0</td>\n",
              "      <td>2.0</td>\n",
              "      <td>5.0</td>\n",
              "      <td>1998.0</td>\n",
              "      <td>1604</td>\n",
              "      <td>1</td>\n",
              "      <td>9</td>\n",
              "      <td>1</td>\n",
              "      <td>7.0</td>\n",
              "      <td>9</td>\n",
              "      <td>9978</td>\n",
              "      <td>9</td>\n",
              "      <td>78.0</td>\n",
              "      <td>7</td>\n",
              "      <td>0</td>\n",
              "      <td>60</td>\n",
              "      <td>20.0</td>\n",
              "      <td>6</td>\n",
              "      <td>36</td>\n",
              "      <td>6</td>\n",
              "      <td>6</td>\n",
              "      <td>9</td>\n",
              "      <td>0</td>\n",
              "      <td>0</td>\n",
              "      <td>5</td>\n",
              "      <td>7</td>\n",
              "      <td>926.0</td>\n",
              "      <td>360</td>\n",
              "      <td>1998</td>\n",
              "      <td>1998</td>\n",
              "      <td>2010</td>\n",
              "    </tr>\n",
              "    <tr>\n",
              "      <th>1464</th>\n",
              "      <td>1280</td>\n",
              "      <td>0</td>\n",
              "      <td>0</td>\n",
              "      <td>2</td>\n",
              "      <td>5.0</td>\n",
              "      <td>1.0</td>\n",
              "      <td>263.0</td>\n",
              "      <td>0.0</td>\n",
              "      <td>7.0</td>\n",
              "      <td>0.0</td>\n",
              "      <td>0.0</td>\n",
              "      <td>7.0</td>\n",
              "      <td>1017.0</td>\n",
              "      <td>0</td>\n",
              "      <td>5</td>\n",
              "      <td>7</td>\n",
              "      <td>0.0</td>\n",
              "      <td>0.0</td>\n",
              "      <td>0</td>\n",
              "      <td>2</td>\n",
              "      <td>506.0</td>\n",
              "      <td>2.0</td>\n",
              "      <td>5.0</td>\n",
              "      <td>1992.0</td>\n",
              "      <td>1280</td>\n",
              "      <td>0</td>\n",
              "      <td>9</td>\n",
              "      <td>1</td>\n",
              "      <td>7.0</td>\n",
              "      <td>9</td>\n",
              "      <td>5005</td>\n",
              "      <td>9</td>\n",
              "      <td>43.0</td>\n",
              "      <td>7</td>\n",
              "      <td>0</td>\n",
              "      <td>120</td>\n",
              "      <td>0.0</td>\n",
              "      <td>1</td>\n",
              "      <td>82</td>\n",
              "      <td>5</td>\n",
              "      <td>8</td>\n",
              "      <td>9</td>\n",
              "      <td>0</td>\n",
              "      <td>144</td>\n",
              "      <td>5</td>\n",
              "      <td>5</td>\n",
              "      <td>1280.0</td>\n",
              "      <td>0</td>\n",
              "      <td>1992</td>\n",
              "      <td>1992</td>\n",
              "      <td>2010</td>\n",
              "    </tr>\n",
              "  </tbody>\n",
              "</table>\n",
              "</div>"
            ],
            "text/plain": [
              "      1stFlrSF  2ndFlrSF  3SsnPorch  ...  YearBuilt  YearRemodAdd  YrSold\n",
              "1460       896         0          0  ...       1961          1961    2010\n",
              "1461      1329         0          0  ...       1958          1958    2010\n",
              "1462       928       701          0  ...       1997          1998    2010\n",
              "1463       926       678          0  ...       1998          1998    2010\n",
              "1464      1280         0          0  ...       1992          1992    2010\n",
              "\n",
              "[5 rows x 51 columns]"
            ]
          },
          "metadata": {
            "tags": []
          },
          "execution_count": 107
        }
      ]
    },
    {
      "cell_type": "code",
      "metadata": {
        "id": "E7cDP9gZPCPV",
        "colab_type": "code",
        "outputId": "075607bf-e73a-4312-c8fb-3291c22efde1",
        "colab": {
          "base_uri": "https://localhost:8080/",
          "height": 226
        }
      },
      "source": [
        "normed_test2_data = norm(dataset2)\n",
        "normed_test2_data.head()"
      ],
      "execution_count": 0,
      "outputs": [
        {
          "output_type": "execute_result",
          "data": {
            "text/html": [
              "<div>\n",
              "<style scoped>\n",
              "    .dataframe tbody tr th:only-of-type {\n",
              "        vertical-align: middle;\n",
              "    }\n",
              "\n",
              "    .dataframe tbody tr th {\n",
              "        vertical-align: top;\n",
              "    }\n",
              "\n",
              "    .dataframe thead th {\n",
              "        text-align: right;\n",
              "    }\n",
              "</style>\n",
              "<table border=\"1\" class=\"dataframe\">\n",
              "  <thead>\n",
              "    <tr style=\"text-align: right;\">\n",
              "      <th></th>\n",
              "      <th>1stFlrSF</th>\n",
              "      <th>2ndFlrSF</th>\n",
              "      <th>3SsnPorch</th>\n",
              "      <th>BedroomAbvGr</th>\n",
              "      <th>BsmtCond</th>\n",
              "      <th>BsmtExposure</th>\n",
              "      <th>BsmtFinSF1</th>\n",
              "      <th>BsmtFinSF2</th>\n",
              "      <th>BsmtFinType1</th>\n",
              "      <th>BsmtFullBath</th>\n",
              "      <th>BsmtHalfBath</th>\n",
              "      <th>BsmtQual</th>\n",
              "      <th>BsmtUnfSF</th>\n",
              "      <th>EnclosedPorch</th>\n",
              "      <th>ExterCond</th>\n",
              "      <th>ExterQual</th>\n",
              "      <th>Fence</th>\n",
              "      <th>FireplaceQu</th>\n",
              "      <th>Fireplaces</th>\n",
              "      <th>FullBath</th>\n",
              "      <th>GarageArea</th>\n",
              "      <th>GarageCars</th>\n",
              "      <th>GarageQual</th>\n",
              "      <th>GarageYrBlt</th>\n",
              "      <th>GrLivArea</th>\n",
              "      <th>HalfBath</th>\n",
              "      <th>HeatingQC</th>\n",
              "      <th>KitchenAbvGr</th>\n",
              "      <th>KitchenQual</th>\n",
              "      <th>LandSlope</th>\n",
              "      <th>LotArea</th>\n",
              "      <th>LotConfig</th>\n",
              "      <th>LotFrontage</th>\n",
              "      <th>LotShape</th>\n",
              "      <th>LowQualFinSF</th>\n",
              "      <th>MSSubClass</th>\n",
              "      <th>MasVnrArea</th>\n",
              "      <th>MoSold</th>\n",
              "      <th>OpenPorchSF</th>\n",
              "      <th>OverallCond</th>\n",
              "      <th>OverallQual</th>\n",
              "      <th>PavedDrive</th>\n",
              "      <th>PoolArea</th>\n",
              "      <th>ScreenPorch</th>\n",
              "      <th>Street</th>\n",
              "      <th>TotRmsAbvGrd</th>\n",
              "      <th>TotalBsmtSF</th>\n",
              "      <th>WoodDeckSF</th>\n",
              "      <th>YearBuilt</th>\n",
              "      <th>YearRemodAdd</th>\n",
              "      <th>YrSold</th>\n",
              "    </tr>\n",
              "  </thead>\n",
              "  <tbody>\n",
              "    <tr>\n",
              "      <th>1460</th>\n",
              "      <td>-0.692039</td>\n",
              "      <td>-0.803896</td>\n",
              "      <td>-0.124092</td>\n",
              "      <td>-1.044501</td>\n",
              "      <td>0.090212</td>\n",
              "      <td>-0.587781</td>\n",
              "      <td>0.051554</td>\n",
              "      <td>0.589786</td>\n",
              "      <td>-0.498782</td>\n",
              "      <td>-0.823032</td>\n",
              "      <td>-0.240786</td>\n",
              "      <td>-0.619141</td>\n",
              "      <td>-0.686667</td>\n",
              "      <td>-0.372575</td>\n",
              "      <td>-0.240058</td>\n",
              "      <td>-0.702674</td>\n",
              "      <td>2.029651</td>\n",
              "      <td>-1.013466</td>\n",
              "      <td>-0.962459</td>\n",
              "      <td>-1.018259</td>\n",
              "      <td>1.154574</td>\n",
              "      <td>-1.024655</td>\n",
              "      <td>0.257523</td>\n",
              "      <td>0.207388</td>\n",
              "      <td>-1.189473</td>\n",
              "      <td>-0.771454</td>\n",
              "      <td>-1.191945</td>\n",
              "      <td>-0.21808</td>\n",
              "      <td>-0.785853</td>\n",
              "      <td>0.227421</td>\n",
              "      <td>0.108268</td>\n",
              "      <td>0.525157</td>\n",
              "      <td>0.642085</td>\n",
              "      <td>0.697405</td>\n",
              "      <td>-0.130482</td>\n",
              "      <td>-0.893461</td>\n",
              "      <td>-0.594513</td>\n",
              "      <td>-0.135640</td>\n",
              "      <td>-0.719942</td>\n",
              "      <td>0.367794</td>\n",
              "      <td>-0.821556</td>\n",
              "      <td>0.28666</td>\n",
              "      <td>-0.071073</td>\n",
              "      <td>1.930216</td>\n",
              "      <td>0.058596</td>\n",
              "      <td>-0.946407</td>\n",
              "      <td>-0.410296</td>\n",
              "      <td>0.369262</td>\n",
              "      <td>-0.329056</td>\n",
              "      <td>-1.157145</td>\n",
              "      <td>1.653838</td>\n",
              "    </tr>\n",
              "    <tr>\n",
              "      <th>1461</th>\n",
              "      <td>0.407871</td>\n",
              "      <td>-0.803896</td>\n",
              "      <td>-0.124092</td>\n",
              "      <td>0.168200</td>\n",
              "      <td>0.090212</td>\n",
              "      <td>-0.587781</td>\n",
              "      <td>1.024827</td>\n",
              "      <td>-0.281321</td>\n",
              "      <td>0.644086</td>\n",
              "      <td>-0.823032</td>\n",
              "      <td>-0.240786</td>\n",
              "      <td>-0.619141</td>\n",
              "      <td>-0.381432</td>\n",
              "      <td>-0.372575</td>\n",
              "      <td>-0.240058</td>\n",
              "      <td>-0.702674</td>\n",
              "      <td>-0.470639</td>\n",
              "      <td>-1.013466</td>\n",
              "      <td>-0.962459</td>\n",
              "      <td>-1.018259</td>\n",
              "      <td>-0.754811</td>\n",
              "      <td>-1.024655</td>\n",
              "      <td>0.257523</td>\n",
              "      <td>0.200880</td>\n",
              "      <td>-0.377923</td>\n",
              "      <td>1.200227</td>\n",
              "      <td>-1.191945</td>\n",
              "      <td>-0.21808</td>\n",
              "      <td>0.718862</td>\n",
              "      <td>0.227421</td>\n",
              "      <td>0.375263</td>\n",
              "      <td>-0.739551</td>\n",
              "      <td>0.671119</td>\n",
              "      <td>-0.996085</td>\n",
              "      <td>-0.130482</td>\n",
              "      <td>-0.893461</td>\n",
              "      <td>0.012492</td>\n",
              "      <td>-0.135640</td>\n",
              "      <td>-0.168798</td>\n",
              "      <td>0.367794</td>\n",
              "      <td>-0.109175</td>\n",
              "      <td>0.28666</td>\n",
              "      <td>-0.071073</td>\n",
              "      <td>-0.263795</td>\n",
              "      <td>0.058596</td>\n",
              "      <td>-0.337033</td>\n",
              "      <td>0.584544</td>\n",
              "      <td>2.416432</td>\n",
              "      <td>-0.426030</td>\n",
              "      <td>-1.301259</td>\n",
              "      <td>1.653838</td>\n",
              "    </tr>\n",
              "    <tr>\n",
              "      <th>1462</th>\n",
              "      <td>-0.610752</td>\n",
              "      <td>0.782260</td>\n",
              "      <td>-0.124092</td>\n",
              "      <td>0.168200</td>\n",
              "      <td>0.090212</td>\n",
              "      <td>-0.587781</td>\n",
              "      <td>0.742471</td>\n",
              "      <td>-0.281321</td>\n",
              "      <td>1.215520</td>\n",
              "      <td>-0.823032</td>\n",
              "      <td>-0.240786</td>\n",
              "      <td>0.582116</td>\n",
              "      <td>-0.985169</td>\n",
              "      <td>-0.372575</td>\n",
              "      <td>-0.240058</td>\n",
              "      <td>-0.702674</td>\n",
              "      <td>2.029651</td>\n",
              "      <td>0.569905</td>\n",
              "      <td>0.585960</td>\n",
              "      <td>0.775597</td>\n",
              "      <td>0.021733</td>\n",
              "      <td>0.281892</td>\n",
              "      <td>0.257523</td>\n",
              "      <td>0.285480</td>\n",
              "      <td>0.184352</td>\n",
              "      <td>1.200227</td>\n",
              "      <td>-0.154931</td>\n",
              "      <td>-0.21808</td>\n",
              "      <td>-0.785853</td>\n",
              "      <td>0.227421</td>\n",
              "      <td>0.331151</td>\n",
              "      <td>0.525157</td>\n",
              "      <td>0.467879</td>\n",
              "      <td>-0.996085</td>\n",
              "      <td>-0.130482</td>\n",
              "      <td>0.057718</td>\n",
              "      <td>-0.594513</td>\n",
              "      <td>-1.246116</td>\n",
              "      <td>-0.199417</td>\n",
              "      <td>-0.521612</td>\n",
              "      <td>-0.821556</td>\n",
              "      <td>0.28666</td>\n",
              "      <td>-0.071073</td>\n",
              "      <td>-0.263795</td>\n",
              "      <td>0.058596</td>\n",
              "      <td>-0.337033</td>\n",
              "      <td>-0.307919</td>\n",
              "      <td>0.951856</td>\n",
              "      <td>0.834624</td>\n",
              "      <td>0.620256</td>\n",
              "      <td>1.653838</td>\n",
              "    </tr>\n",
              "    <tr>\n",
              "      <th>1463</th>\n",
              "      <td>-0.615833</td>\n",
              "      <td>0.730218</td>\n",
              "      <td>-0.124092</td>\n",
              "      <td>0.168200</td>\n",
              "      <td>0.090212</td>\n",
              "      <td>-0.587781</td>\n",
              "      <td>0.338188</td>\n",
              "      <td>-0.281321</td>\n",
              "      <td>1.215520</td>\n",
              "      <td>-0.823032</td>\n",
              "      <td>-0.240786</td>\n",
              "      <td>-0.619141</td>\n",
              "      <td>-0.565471</td>\n",
              "      <td>-0.372575</td>\n",
              "      <td>-0.240058</td>\n",
              "      <td>-0.702674</td>\n",
              "      <td>-0.470639</td>\n",
              "      <td>1.203253</td>\n",
              "      <td>0.585960</td>\n",
              "      <td>0.775597</td>\n",
              "      <td>-0.033082</td>\n",
              "      <td>0.281892</td>\n",
              "      <td>0.257523</td>\n",
              "      <td>0.287649</td>\n",
              "      <td>0.137496</td>\n",
              "      <td>1.200227</td>\n",
              "      <td>0.882083</td>\n",
              "      <td>-0.21808</td>\n",
              "      <td>0.718862</td>\n",
              "      <td>0.227421</td>\n",
              "      <td>-0.057683</td>\n",
              "      <td>0.525157</td>\n",
              "      <td>0.584016</td>\n",
              "      <td>-0.996085</td>\n",
              "      <td>-0.130482</td>\n",
              "      <td>0.057718</td>\n",
              "      <td>-0.482105</td>\n",
              "      <td>-0.135640</td>\n",
              "      <td>-0.168798</td>\n",
              "      <td>0.367794</td>\n",
              "      <td>-0.109175</td>\n",
              "      <td>0.28666</td>\n",
              "      <td>-0.071073</td>\n",
              "      <td>-0.263795</td>\n",
              "      <td>0.058596</td>\n",
              "      <td>0.272340</td>\n",
              "      <td>-0.312370</td>\n",
              "      <td>2.149410</td>\n",
              "      <td>0.866949</td>\n",
              "      <td>0.620256</td>\n",
              "      <td>1.653838</td>\n",
              "    </tr>\n",
              "    <tr>\n",
              "      <th>1464</th>\n",
              "      <td>0.283400</td>\n",
              "      <td>-0.803896</td>\n",
              "      <td>-0.124092</td>\n",
              "      <td>-1.044501</td>\n",
              "      <td>0.090212</td>\n",
              "      <td>-0.587781</td>\n",
              "      <td>-0.386954</td>\n",
              "      <td>-0.281321</td>\n",
              "      <td>0.644086</td>\n",
              "      <td>-0.823032</td>\n",
              "      <td>-0.240786</td>\n",
              "      <td>0.582116</td>\n",
              "      <td>0.989880</td>\n",
              "      <td>-0.372575</td>\n",
              "      <td>-0.240058</td>\n",
              "      <td>1.017920</td>\n",
              "      <td>-0.470639</td>\n",
              "      <td>-1.013466</td>\n",
              "      <td>-0.962459</td>\n",
              "      <td>0.775597</td>\n",
              "      <td>0.131363</td>\n",
              "      <td>0.281892</td>\n",
              "      <td>0.257523</td>\n",
              "      <td>0.274634</td>\n",
              "      <td>-0.469761</td>\n",
              "      <td>-0.771454</td>\n",
              "      <td>0.882083</td>\n",
              "      <td>-0.21808</td>\n",
              "      <td>0.718862</td>\n",
              "      <td>0.227421</td>\n",
              "      <td>-0.559675</td>\n",
              "      <td>0.525157</td>\n",
              "      <td>-0.432183</td>\n",
              "      <td>-0.996085</td>\n",
              "      <td>-0.130482</td>\n",
              "      <td>1.484487</td>\n",
              "      <td>-0.594513</td>\n",
              "      <td>-1.986434</td>\n",
              "      <td>0.535441</td>\n",
              "      <td>-0.521612</td>\n",
              "      <td>1.315587</td>\n",
              "      <td>0.28666</td>\n",
              "      <td>-0.071073</td>\n",
              "      <td>2.369018</td>\n",
              "      <td>0.058596</td>\n",
              "      <td>-0.946407</td>\n",
              "      <td>0.475490</td>\n",
              "      <td>-0.763560</td>\n",
              "      <td>0.673002</td>\n",
              "      <td>0.332029</td>\n",
              "      <td>1.653838</td>\n",
              "    </tr>\n",
              "  </tbody>\n",
              "</table>\n",
              "</div>"
            ],
            "text/plain": [
              "      1stFlrSF  2ndFlrSF  3SsnPorch  ...  YearBuilt  YearRemodAdd    YrSold\n",
              "1460 -0.692039 -0.803896  -0.124092  ...  -0.329056     -1.157145  1.653838\n",
              "1461  0.407871 -0.803896  -0.124092  ...  -0.426030     -1.301259  1.653838\n",
              "1462 -0.610752  0.782260  -0.124092  ...   0.834624      0.620256  1.653838\n",
              "1463 -0.615833  0.730218  -0.124092  ...   0.866949      0.620256  1.653838\n",
              "1464  0.283400 -0.803896  -0.124092  ...   0.673002      0.332029  1.653838\n",
              "\n",
              "[5 rows x 51 columns]"
            ]
          },
          "metadata": {
            "tags": []
          },
          "execution_count": 108
        }
      ]
    },
    {
      "cell_type": "code",
      "metadata": {
        "id": "2VCEG0LNPF4r",
        "colab_type": "code",
        "outputId": "4f362f5d-650e-4e4f-ca09-abedf7b7644a",
        "colab": {
          "base_uri": "https://localhost:8080/",
          "height": 34
        }
      },
      "source": [
        "ynew = model.predict(normed_test2_data)\n",
        "dfsal = pd.DataFrame(ynew)\n",
        "dfsal.columns = ['SalePrice']"
      ],
      "execution_count": 0,
      "outputs": [
        {
          "output_type": "stream",
          "text": [
            "WARNING:tensorflow:Falling back from v2 loop because of error: Failed to find data adapter that can handle input: <class 'pandas.core.frame.DataFrame'>, <class 'NoneType'>\n"
          ],
          "name": "stdout"
        }
      ]
    },
    {
      "cell_type": "markdown",
      "metadata": {
        "id": "Aa6ddQFqPUVT",
        "colab_type": "text"
      },
      "source": [
        "Se guardan los datos en el archivo de resultados en el drive\n"
      ]
    },
    {
      "cell_type": "code",
      "metadata": {
        "id": "YZmpnpOrPIz-",
        "colab_type": "code",
        "outputId": "b4dee822-e957-46fa-b622-50e318c8854c",
        "colab": {
          "base_uri": "https://localhost:8080/",
          "height": 260
        }
      },
      "source": [
        "my_list = list(range(1461,2920))\n",
        "dfid = pd.DataFrame(my_list)\n",
        "dfid.columns = ['Id'] \n",
        "resultados = pd.concat([\n",
        "    dfid,dfsal\n",
        "], axis=1)\n",
        "print(resultados)\n",
        "resultados.to_csv(\"submission_v2.csv\", index=False)"
      ],
      "execution_count": 0,
      "outputs": [
        {
          "output_type": "stream",
          "text": [
            "        Id      SalePrice\n",
            "0     1461  112565.804688\n",
            "1     1462  165435.750000\n",
            "2     1463  175896.234375\n",
            "3     1464  194858.218750\n",
            "4     1465  178948.171875\n",
            "...    ...            ...\n",
            "1454  2915  107731.226562\n",
            "1455  2916   96195.640625\n",
            "1456  2917  182300.687500\n",
            "1457  2918  103606.703125\n",
            "1458  2919  234564.953125\n",
            "\n",
            "[1459 rows x 2 columns]\n"
          ],
          "name": "stdout"
        }
      ]
    },
    {
      "cell_type": "markdown",
      "metadata": {
        "id": "Ul6uZ6zLWIlL",
        "colab_type": "text"
      },
      "source": [
        "#Resultados de Kaggle:\n",
        "\n"
      ]
    },
    {
      "cell_type": "code",
      "metadata": {
        "id": "2cskstWUZFUY",
        "colab_type": "code",
        "outputId": "3f863025-a6bd-4af0-b482-a1c1bf8c27bf",
        "colab": {
          "base_uri": "https://localhost:8080/",
          "height": 240
        }
      },
      "source": [
        "from IPython.display import Image\n",
        "print(\"modelo 1\")\n",
        "Image('modelo1.png')"
      ],
      "execution_count": 0,
      "outputs": [
        {
          "output_type": "stream",
          "text": [
            "modelo 1\n"
          ],
          "name": "stdout"
        },
        {
          "output_type": "execute_result",
          "data": {
            "image/png": "[encoded data removed]",
            "text/plain": [
              "<IPython.core.display.Image object>"
            ]
          },
          "metadata": {
            "tags": []
          },
          "execution_count": 129
        }
      ]
    },
    {
      "cell_type": "code",
      "metadata": {
        "id": "hEaBnkzzY-IU",
        "colab_type": "code",
        "outputId": "757da68d-6aa4-41de-fb18-05e8f489e8e1",
        "colab": {
          "base_uri": "https://localhost:8080/",
          "height": 177
        }
      },
      "source": [
        "from IPython.display import Image\n",
        "print(\"modelo 2\")\n",
        "Image('modelo2.jpg')"
      ],
      "execution_count": 0,
      "outputs": [
        {
          "output_type": "stream",
          "text": [
            "modelo 2\n"
          ],
          "name": "stdout"
        },
        {
          "output_type": "execute_result",
          "data": {
            "image/jpeg": "[encoded data removed]",
            "text/plain": [
              "<IPython.core.display.Image object>"
            ]
          },
          "metadata": {
            "tags": []
          },
          "execution_count": 127
        }
      ]
    },
    {
      "cell_type": "markdown",
      "metadata": {
        "id": "RGtPUMkBZ9wz",
        "colab_type": "text"
      },
      "source": [
        "#Conclusiones\n"
      ]
    },
    {
      "cell_type": "markdown",
      "metadata": {
        "id": "rZ7-addqaDIc",
        "colab_type": "text"
      },
      "source": [
        "El reto de este trabajo fue identificar las características que tienen los datos, como son los perdidos, diferentes tipos (categóricos, nominales, binarios y numéricos) como la razón de lo datos para validar si era mejor mantener ciertas variables o instancias. Por otra parte, al no tener un gran número de instancias (1640) y de atributos (80) se tuvo que planear cuales datos existían una mayor relación para poder identificarlos y poder obtener un mejor resultado, esto llevo a proponer varios modelos de los cuales dos son los que reportamos, estos los hemos visto en clase y vimos que el más sencillo en complejidad (regresión lineal) tiene un mejor desempeño que el de redes neuronales, que es más comunmente utilizado para procesos con mayor número de datos y relaciones entre variables mucho más complicados que otros modelos no pueden predecir.\n",
        "\n",
        "La correcta selección de un método adecuado y de preprocesamiento son indispensables para lograr buenos resultados en este tipo de técnicas de regresión y que presenten una buena estabilidad que sea lo suficientemente general y robusto para evitar los problemas clásicos como el sobre entrenamiento y errores relativos altos.\n",
        "\n"
      ]
    }
  ]
}